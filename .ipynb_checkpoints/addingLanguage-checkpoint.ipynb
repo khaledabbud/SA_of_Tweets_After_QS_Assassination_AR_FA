{
 "cells": [
  {
   "cell_type": "markdown",
   "metadata": {},
   "source": [
    "# Adding the Language of the Tweets as a Column "
   ]
  },
  {
   "cell_type": "code",
   "execution_count": 1,
   "metadata": {},
   "outputs": [],
   "source": [
    "import pandas as pd\n",
    "import numpy as np\n",
    "import re"
   ]
  },
  {
   "cell_type": "code",
   "execution_count": 2,
   "metadata": {},
   "outputs": [
    {
     "data": {
      "text/html": [
       "<div>\n",
       "<style scoped>\n",
       "    .dataframe tbody tr th:only-of-type {\n",
       "        vertical-align: middle;\n",
       "    }\n",
       "\n",
       "    .dataframe tbody tr th {\n",
       "        vertical-align: top;\n",
       "    }\n",
       "\n",
       "    .dataframe thead th {\n",
       "        text-align: right;\n",
       "    }\n",
       "</style>\n",
       "<table border=\"1\" class=\"dataframe\">\n",
       "  <thead>\n",
       "    <tr style=\"text-align: right;\">\n",
       "      <th></th>\n",
       "      <th>date</th>\n",
       "      <th>username</th>\n",
       "      <th>to</th>\n",
       "      <th>replies</th>\n",
       "      <th>retweets</th>\n",
       "      <th>favorites</th>\n",
       "      <th>text</th>\n",
       "      <th>mentions</th>\n",
       "      <th>hashtags</th>\n",
       "      <th>id</th>\n",
       "      <th>permalink</th>\n",
       "      <th>text_mentions</th>\n",
       "      <th>text_links</th>\n",
       "      <th>cleaned_text</th>\n",
       "    </tr>\n",
       "  </thead>\n",
       "  <tbody>\n",
       "    <tr>\n",
       "      <th>0</th>\n",
       "      <td>2020-01-01 00:03:23</td>\n",
       "      <td>shahokurdy</td>\n",
       "      <td>Newsweek</td>\n",
       "      <td>6</td>\n",
       "      <td>60</td>\n",
       "      <td>135</td>\n",
       "      <td>قال مسؤول عراقي، لمجلة #نيوزويك \"إن مظاهرة الس...</td>\n",
       "      <td>@Jamal_Atamimihttps</td>\n",
       "      <td>#نيوزويك #انتفاضة_عراقية #تخطيط_عسكري #الحرس_ا...</td>\n",
       "      <td>1212162364012978176</td>\n",
       "      <td>https://twitter.com/shahokurdy/status/12121623...</td>\n",
       "      <td>@Jamal_Atamimihttps</td>\n",
       "      <td>https://twitter.com/Newsweek/status/1212142920...</td>\n",
       "      <td>قال مسؤول عراقي، لمجلة #نيوزويك \"إن مظاهرة الس...</td>\n",
       "    </tr>\n",
       "    <tr>\n",
       "      <th>1</th>\n",
       "      <td>2020-01-01 00:04:52</td>\n",
       "      <td>DarkPhoeinx</td>\n",
       "      <td>hmdkh67</td>\n",
       "      <td>1</td>\n",
       "      <td>0</td>\n",
       "      <td>0</td>\n",
       "      <td>داداش فارسی توییت میزنم چون میدونم فارسی متوجه...</td>\n",
       "      <td>NaN</td>\n",
       "      <td>#قاسم_سلیمانی #خامنه #سپاه_تروریستی_پاسداران</td>\n",
       "      <td>1212162737704513537</td>\n",
       "      <td>https://twitter.com/DarkPhoeinx/status/1212162...</td>\n",
       "      <td>NaN</td>\n",
       "      <td>NaN</td>\n",
       "      <td>داداش فارسی توییت میزنم چون میدونم فارسی متوجه...</td>\n",
       "    </tr>\n",
       "    <tr>\n",
       "      <th>2</th>\n",
       "      <td>2020-01-01 00:26:43</td>\n",
       "      <td>benrezaei</td>\n",
       "      <td>NaN</td>\n",
       "      <td>0</td>\n",
       "      <td>0</td>\n",
       "      <td>0</td>\n",
       "      <td>#خامنه‌ای #اعتراضات_سراسری #سفارت_آمریکا #آبان...</td>\n",
       "      <td>@IsraelPersian @USAdarFarsi</td>\n",
       "      <td>#خامنه #اعتراضات_سراسری #سفارت_آمریکا #آبان_٩٨...</td>\n",
       "      <td>1212168235673640960</td>\n",
       "      <td>https://twitter.com/benrezaei/status/121216823...</td>\n",
       "      <td>@IsraelPersian @USAdarFarsi</td>\n",
       "      <td>pic.twitter.com/KgnsLi6oj6</td>\n",
       "      <td>#خامنه‌ای #اعتراضات_سراسری #سفارت_آمریکا #آبان...</td>\n",
       "    </tr>\n",
       "    <tr>\n",
       "      <th>3</th>\n",
       "      <td>2020-01-01 00:58:39</td>\n",
       "      <td>DavoodKrm</td>\n",
       "      <td>NaN</td>\n",
       "      <td>0</td>\n",
       "      <td>0</td>\n",
       "      <td>2</td>\n",
       "      <td>در سال ۱۳۵۸ جمهوری اسلامی با #اشغال_سفارت آمری...</td>\n",
       "      <td>@IranIntl @bbcpersian</td>\n",
       "      <td>#اشغال_سفارت #ایران_اینترنشنال #کتائب_حزب_الله...</td>\n",
       "      <td>1212176274069819393</td>\n",
       "      <td>https://twitter.com/DavoodKrm/status/121217627...</td>\n",
       "      <td>@IranIntl @bbcpersian</td>\n",
       "      <td>NaN</td>\n",
       "      <td>در سال ۱۳۵۸ جمهوری اسلامی با #اشغال_سفارت آمری...</td>\n",
       "    </tr>\n",
       "    <tr>\n",
       "      <th>4</th>\n",
       "      <td>2020-01-01 02:54:03</td>\n",
       "      <td>Guidance_Free</td>\n",
       "      <td>NaN</td>\n",
       "      <td>4</td>\n",
       "      <td>3</td>\n",
       "      <td>7</td>\n",
       "      <td>اللهم يا سميع الدعاء زلزل الأرض من تحت أقدام #...</td>\n",
       "      <td>NaN</td>\n",
       "      <td>#خامنئي #قاسم_سليماني #الحشد_الشعبي #بسيج #الح...</td>\n",
       "      <td>1212205313358782464</td>\n",
       "      <td>https://twitter.com/Guidance_Free/status/12122...</td>\n",
       "      <td>NaN</td>\n",
       "      <td>NaN</td>\n",
       "      <td>اللهم يا سميع الدعاء زلزل الأرض من تحت أقدام #...</td>\n",
       "    </tr>\n",
       "  </tbody>\n",
       "</table>\n",
       "</div>"
      ],
      "text/plain": [
       "                  date       username        to  replies  retweets  favorites  \\\n",
       "0  2020-01-01 00:03:23     shahokurdy  Newsweek        6        60        135   \n",
       "1  2020-01-01 00:04:52    DarkPhoeinx   hmdkh67        1         0          0   \n",
       "2  2020-01-01 00:26:43      benrezaei       NaN        0         0          0   \n",
       "3  2020-01-01 00:58:39      DavoodKrm       NaN        0         0          2   \n",
       "4  2020-01-01 02:54:03  Guidance_Free       NaN        4         3          7   \n",
       "\n",
       "                                                text  \\\n",
       "0  قال مسؤول عراقي، لمجلة #نيوزويك \"إن مظاهرة الس...   \n",
       "1  داداش فارسی توییت میزنم چون میدونم فارسی متوجه...   \n",
       "2  #خامنه‌ای #اعتراضات_سراسری #سفارت_آمریکا #آبان...   \n",
       "3  در سال ۱۳۵۸ جمهوری اسلامی با #اشغال_سفارت آمری...   \n",
       "4  اللهم يا سميع الدعاء زلزل الأرض من تحت أقدام #...   \n",
       "\n",
       "                      mentions  \\\n",
       "0          @Jamal_Atamimihttps   \n",
       "1                          NaN   \n",
       "2  @IsraelPersian @USAdarFarsi   \n",
       "3        @IranIntl @bbcpersian   \n",
       "4                          NaN   \n",
       "\n",
       "                                            hashtags                   id  \\\n",
       "0  #نيوزويك #انتفاضة_عراقية #تخطيط_عسكري #الحرس_ا...  1212162364012978176   \n",
       "1       #قاسم_سلیمانی #خامنه #سپاه_تروریستی_پاسداران  1212162737704513537   \n",
       "2  #خامنه #اعتراضات_سراسری #سفارت_آمریکا #آبان_٩٨...  1212168235673640960   \n",
       "3  #اشغال_سفارت #ایران_اینترنشنال #کتائب_حزب_الله...  1212176274069819393   \n",
       "4  #خامنئي #قاسم_سليماني #الحشد_الشعبي #بسيج #الح...  1212205313358782464   \n",
       "\n",
       "                                           permalink  \\\n",
       "0  https://twitter.com/shahokurdy/status/12121623...   \n",
       "1  https://twitter.com/DarkPhoeinx/status/1212162...   \n",
       "2  https://twitter.com/benrezaei/status/121216823...   \n",
       "3  https://twitter.com/DavoodKrm/status/121217627...   \n",
       "4  https://twitter.com/Guidance_Free/status/12122...   \n",
       "\n",
       "                 text_mentions  \\\n",
       "0          @Jamal_Atamimihttps   \n",
       "1                          NaN   \n",
       "2  @IsraelPersian @USAdarFarsi   \n",
       "3        @IranIntl @bbcpersian   \n",
       "4                          NaN   \n",
       "\n",
       "                                          text_links  \\\n",
       "0  https://twitter.com/Newsweek/status/1212142920...   \n",
       "1                                                NaN   \n",
       "2                         pic.twitter.com/KgnsLi6oj6   \n",
       "3                                                NaN   \n",
       "4                                                NaN   \n",
       "\n",
       "                                        cleaned_text  \n",
       "0  قال مسؤول عراقي، لمجلة #نيوزويك \"إن مظاهرة الس...  \n",
       "1  داداش فارسی توییت میزنم چون میدونم فارسی متوجه...  \n",
       "2  #خامنه‌ای #اعتراضات_سراسری #سفارت_آمریکا #آبان...  \n",
       "3  در سال ۱۳۵۸ جمهوری اسلامی با #اشغال_سفارت آمری...  \n",
       "4  اللهم يا سميع الدعاء زلزل الأرض من تحت أقدام #...  "
      ]
     },
     "execution_count": 2,
     "metadata": {},
     "output_type": "execute_result"
    }
   ],
   "source": [
    "df = pd.read_csv(\"Data/cleaned_data.csv\")\n",
    "df.head()"
   ]
  },
  {
   "cell_type": "code",
   "execution_count": 3,
   "metadata": {},
   "outputs": [
    {
     "data": {
      "text/plain": [
       "(203419, 14)"
      ]
     },
     "execution_count": 3,
     "metadata": {},
     "output_type": "execute_result"
    }
   ],
   "source": [
    "df.shape"
   ]
  },
  {
   "cell_type": "code",
   "execution_count": 4,
   "metadata": {},
   "outputs": [
    {
     "data": {
      "text/html": [
       "<div>\n",
       "<style scoped>\n",
       "    .dataframe tbody tr th:only-of-type {\n",
       "        vertical-align: middle;\n",
       "    }\n",
       "\n",
       "    .dataframe tbody tr th {\n",
       "        vertical-align: top;\n",
       "    }\n",
       "\n",
       "    .dataframe thead th {\n",
       "        text-align: right;\n",
       "    }\n",
       "</style>\n",
       "<table border=\"1\" class=\"dataframe\">\n",
       "  <thead>\n",
       "    <tr style=\"text-align: right;\">\n",
       "      <th></th>\n",
       "      <th>text</th>\n",
       "      <th>language</th>\n",
       "      <th>confidence</th>\n",
       "    </tr>\n",
       "  </thead>\n",
       "  <tbody>\n",
       "    <tr>\n",
       "      <th>0</th>\n",
       "      <td>قال مسؤول عراقي، لمجلة #نيوزويك \"إن مظاهرة الس...</td>\n",
       "      <td>ar</td>\n",
       "      <td>1.0</td>\n",
       "    </tr>\n",
       "    <tr>\n",
       "      <th>1</th>\n",
       "      <td>داداش فارسی توییت میزنم چون میدونم فارسی متوجه...</td>\n",
       "      <td>fa</td>\n",
       "      <td>1.0</td>\n",
       "    </tr>\n",
       "    <tr>\n",
       "      <th>2</th>\n",
       "      <td>#خامنه‌ای #اعتراضات_سراسری #سفارت_آمریکا #آبان...</td>\n",
       "      <td>fa</td>\n",
       "      <td>1.0</td>\n",
       "    </tr>\n",
       "    <tr>\n",
       "      <th>3</th>\n",
       "      <td>در سال ۱۳۵۸ جمهوری اسلامی با #اشغال_سفارت آمری...</td>\n",
       "      <td>fa</td>\n",
       "      <td>1.0</td>\n",
       "    </tr>\n",
       "    <tr>\n",
       "      <th>4</th>\n",
       "      <td>اللهم يا سميع الدعاء زلزل الأرض من تحت أقدام #...</td>\n",
       "      <td>ar</td>\n",
       "      <td>1.0</td>\n",
       "    </tr>\n",
       "  </tbody>\n",
       "</table>\n",
       "</div>"
      ],
      "text/plain": [
       "                                                text language  confidence\n",
       "0  قال مسؤول عراقي، لمجلة #نيوزويك \"إن مظاهرة الس...       ar         1.0\n",
       "1  داداش فارسی توییت میزنم چون میدونم فارسی متوجه...       fa         1.0\n",
       "2  #خامنه‌ای #اعتراضات_سراسری #سفارت_آمریکا #آبان...       fa         1.0\n",
       "3  در سال ۱۳۵۸ جمهوری اسلامی با #اشغال_سفارت آمری...       fa         1.0\n",
       "4  اللهم يا سميع الدعاء زلزل الأرض من تحت أقدام #...       ar         1.0"
      ]
     },
     "execution_count": 4,
     "metadata": {},
     "output_type": "execute_result"
    }
   ],
   "source": [
    "tl01 = pd.read_csv('Data/tweet_lang.csv')\n",
    "tl01.head()"
   ]
  },
  {
   "cell_type": "code",
   "execution_count": 5,
   "metadata": {},
   "outputs": [
    {
     "data": {
      "text/plain": [
       "(25275, 3)"
      ]
     },
     "execution_count": 5,
     "metadata": {},
     "output_type": "execute_result"
    }
   ],
   "source": [
    "tl01.shape"
   ]
  },
  {
   "cell_type": "code",
   "execution_count": 6,
   "metadata": {},
   "outputs": [
    {
     "data": {
      "text/html": [
       "<div>\n",
       "<style scoped>\n",
       "    .dataframe tbody tr th:only-of-type {\n",
       "        vertical-align: middle;\n",
       "    }\n",
       "\n",
       "    .dataframe tbody tr th {\n",
       "        vertical-align: top;\n",
       "    }\n",
       "\n",
       "    .dataframe thead th {\n",
       "        text-align: right;\n",
       "    }\n",
       "</style>\n",
       "<table border=\"1\" class=\"dataframe\">\n",
       "  <thead>\n",
       "    <tr style=\"text-align: right;\">\n",
       "      <th></th>\n",
       "      <th>text</th>\n",
       "      <th>language</th>\n",
       "    </tr>\n",
       "  </thead>\n",
       "  <tbody>\n",
       "    <tr>\n",
       "      <th>0</th>\n",
       "      <td>اگر كوه‌ها از جاى كنده شود، تو جاى خويش بدار! ...</td>\n",
       "      <td>fa</td>\n",
       "    </tr>\n",
       "    <tr>\n",
       "      <th>1</th>\n",
       "      <td>Can't Thank you enough   #قاسم_سليماني  …</td>\n",
       "      <td>ar</td>\n",
       "    </tr>\n",
       "    <tr>\n",
       "      <th>2</th>\n",
       "      <td>شهادتت مبارک سردار دلها انتقامت را میگیریم حاج...</td>\n",
       "      <td>fa</td>\n",
       "    </tr>\n",
       "    <tr>\n",
       "      <th>3</th>\n",
       "      <td>وضع الحوثي وهو يراقب الاوضاع #قاسم_سليماني</td>\n",
       "      <td>ar</td>\n",
       "    </tr>\n",
       "    <tr>\n",
       "      <th>4</th>\n",
       "      <td>البنتاغون يؤكد مقتل #قاسم_سليماني بعملية دفاعي...</td>\n",
       "      <td>ar</td>\n",
       "    </tr>\n",
       "  </tbody>\n",
       "</table>\n",
       "</div>"
      ],
      "text/plain": [
       "                                                text language\n",
       "0  اگر كوه‌ها از جاى كنده شود، تو جاى خويش بدار! ...       fa\n",
       "1          Can't Thank you enough   #قاسم_سليماني  …       ar\n",
       "2  شهادتت مبارک سردار دلها انتقامت را میگیریم حاج...       fa\n",
       "3        وضع الحوثي وهو يراقب الاوضاع #قاسم_سليماني        ar\n",
       "4  البنتاغون يؤكد مقتل #قاسم_سليماني بعملية دفاعي...       ar"
      ]
     },
     "execution_count": 6,
     "metadata": {},
     "output_type": "execute_result"
    }
   ],
   "source": [
    "tl02 = pd.read_csv(\"Data/tweet_lang01.csv\")\n",
    "tl02.head()"
   ]
  },
  {
   "cell_type": "code",
   "execution_count": 7,
   "metadata": {},
   "outputs": [
    {
     "data": {
      "text/plain": [
       "(163002, 2)"
      ]
     },
     "execution_count": 7,
     "metadata": {},
     "output_type": "execute_result"
    }
   ],
   "source": [
    "tl02.shape"
   ]
  },
  {
   "cell_type": "code",
   "execution_count": 8,
   "metadata": {},
   "outputs": [
    {
     "data": {
      "text/html": [
       "<div>\n",
       "<style scoped>\n",
       "    .dataframe tbody tr th:only-of-type {\n",
       "        vertical-align: middle;\n",
       "    }\n",
       "\n",
       "    .dataframe tbody tr th {\n",
       "        vertical-align: top;\n",
       "    }\n",
       "\n",
       "    .dataframe thead th {\n",
       "        text-align: right;\n",
       "    }\n",
       "</style>\n",
       "<table border=\"1\" class=\"dataframe\">\n",
       "  <thead>\n",
       "    <tr style=\"text-align: right;\">\n",
       "      <th></th>\n",
       "      <th>text</th>\n",
       "      <th>language</th>\n",
       "    </tr>\n",
       "  </thead>\n",
       "  <tbody>\n",
       "    <tr>\n",
       "      <th>0</th>\n",
       "      <td>وكالة فارس الإيرانية للأنباء تقول إن محتجين وس...</td>\n",
       "      <td>ar</td>\n",
       "    </tr>\n",
       "    <tr>\n",
       "      <th>1</th>\n",
       "      <td>| متظاهرون إيرانيون يمزقون صور #قاسم_سليماني ف...</td>\n",
       "      <td>ar</td>\n",
       "    </tr>\n",
       "    <tr>\n",
       "      <th>2</th>\n",
       "      <td>عاجل | وكالة فارس الإيرانية: محتجون في طهران ي...</td>\n",
       "      <td>ar</td>\n",
       "    </tr>\n",
       "    <tr>\n",
       "      <th>3</th>\n",
       "      <td>وكالة فارس الإيرانية للأنباء: محتجون مزقوا صور...</td>\n",
       "      <td>ar</td>\n",
       "    </tr>\n",
       "    <tr>\n",
       "      <th>4</th>\n",
       "      <td>انقلابی گاهی پای انقلاب خون میدهد و گاهی با آب...</td>\n",
       "      <td>fa</td>\n",
       "    </tr>\n",
       "  </tbody>\n",
       "</table>\n",
       "</div>"
      ],
      "text/plain": [
       "                                                text language\n",
       "0  وكالة فارس الإيرانية للأنباء تقول إن محتجين وس...       ar\n",
       "1  | متظاهرون إيرانيون يمزقون صور #قاسم_سليماني ف...       ar\n",
       "2  عاجل | وكالة فارس الإيرانية: محتجون في طهران ي...       ar\n",
       "3  وكالة فارس الإيرانية للأنباء: محتجون مزقوا صور...       ar\n",
       "4  انقلابی گاهی پای انقلاب خون میدهد و گاهی با آب...       fa"
      ]
     },
     "execution_count": 8,
     "metadata": {},
     "output_type": "execute_result"
    }
   ],
   "source": [
    "tl03 = pd.read_csv(\"Data/tweet_lang02.csv\")\n",
    "tl03.head()"
   ]
  },
  {
   "cell_type": "code",
   "execution_count": 9,
   "metadata": {},
   "outputs": [
    {
     "data": {
      "text/plain": [
       "(15769, 2)"
      ]
     },
     "execution_count": 9,
     "metadata": {},
     "output_type": "execute_result"
    }
   ],
   "source": [
    "tl03.shape"
   ]
  },
  {
   "cell_type": "code",
   "execution_count": 10,
   "metadata": {},
   "outputs": [
    {
     "data": {
      "text/plain": [
       "204046"
      ]
     },
     "execution_count": 10,
     "metadata": {},
     "output_type": "execute_result"
    }
   ],
   "source": [
    "tl01.shape[0] + tl02.shape[0] + tl03.shape[0]"
   ]
  },
  {
   "cell_type": "code",
   "execution_count": 11,
   "metadata": {},
   "outputs": [
    {
     "data": {
      "text/html": [
       "<div>\n",
       "<style scoped>\n",
       "    .dataframe tbody tr th:only-of-type {\n",
       "        vertical-align: middle;\n",
       "    }\n",
       "\n",
       "    .dataframe tbody tr th {\n",
       "        vertical-align: top;\n",
       "    }\n",
       "\n",
       "    .dataframe thead th {\n",
       "        text-align: right;\n",
       "    }\n",
       "</style>\n",
       "<table border=\"1\" class=\"dataframe\">\n",
       "  <thead>\n",
       "    <tr style=\"text-align: right;\">\n",
       "      <th></th>\n",
       "      <th>text</th>\n",
       "      <th>language</th>\n",
       "    </tr>\n",
       "  </thead>\n",
       "  <tbody>\n",
       "    <tr>\n",
       "      <th>0</th>\n",
       "      <td>قال مسؤول عراقي، لمجلة #نيوزويك \"إن مظاهرة الس...</td>\n",
       "      <td>ar</td>\n",
       "    </tr>\n",
       "    <tr>\n",
       "      <th>1</th>\n",
       "      <td>داداش فارسی توییت میزنم چون میدونم فارسی متوجه...</td>\n",
       "      <td>fa</td>\n",
       "    </tr>\n",
       "    <tr>\n",
       "      <th>2</th>\n",
       "      <td>#خامنه‌ای #اعتراضات_سراسری #سفارت_آمریکا #آبان...</td>\n",
       "      <td>fa</td>\n",
       "    </tr>\n",
       "    <tr>\n",
       "      <th>3</th>\n",
       "      <td>در سال ۱۳۵۸ جمهوری اسلامی با #اشغال_سفارت آمری...</td>\n",
       "      <td>fa</td>\n",
       "    </tr>\n",
       "    <tr>\n",
       "      <th>4</th>\n",
       "      <td>اللهم يا سميع الدعاء زلزل الأرض من تحت أقدام #...</td>\n",
       "      <td>ar</td>\n",
       "    </tr>\n",
       "  </tbody>\n",
       "</table>\n",
       "</div>"
      ],
      "text/plain": [
       "                                                text language\n",
       "0  قال مسؤول عراقي، لمجلة #نيوزويك \"إن مظاهرة الس...       ar\n",
       "1  داداش فارسی توییت میزنم چون میدونم فارسی متوجه...       fa\n",
       "2  #خامنه‌ای #اعتراضات_سراسری #سفارت_آمریکا #آبان...       fa\n",
       "3  در سال ۱۳۵۸ جمهوری اسلامی با #اشغال_سفارت آمری...       fa\n",
       "4  اللهم يا سميع الدعاء زلزل الأرض من تحت أقدام #...       ar"
      ]
     },
     "execution_count": 11,
     "metadata": {},
     "output_type": "execute_result"
    }
   ],
   "source": [
    "tl01 = tl01.drop([\"confidence\"], axis = 1)\n",
    "tl01.head()"
   ]
  },
  {
   "cell_type": "code",
   "execution_count": 12,
   "metadata": {},
   "outputs": [
    {
     "data": {
      "text/plain": [
       "(204046, 2)"
      ]
     },
     "execution_count": 12,
     "metadata": {},
     "output_type": "execute_result"
    }
   ],
   "source": [
    "tweet_lang = pd.concat([tl01, tl02, tl03], ignore_index = True)\n",
    "tweet_lang.shape"
   ]
  },
  {
   "cell_type": "code",
   "execution_count": 13,
   "metadata": {},
   "outputs": [
    {
     "data": {
      "text/html": [
       "<div>\n",
       "<style scoped>\n",
       "    .dataframe tbody tr th:only-of-type {\n",
       "        vertical-align: middle;\n",
       "    }\n",
       "\n",
       "    .dataframe tbody tr th {\n",
       "        vertical-align: top;\n",
       "    }\n",
       "\n",
       "    .dataframe thead th {\n",
       "        text-align: right;\n",
       "    }\n",
       "</style>\n",
       "<table border=\"1\" class=\"dataframe\">\n",
       "  <thead>\n",
       "    <tr style=\"text-align: right;\">\n",
       "      <th></th>\n",
       "      <th>text</th>\n",
       "      <th>language</th>\n",
       "    </tr>\n",
       "  </thead>\n",
       "  <tbody>\n",
       "    <tr>\n",
       "      <th>0</th>\n",
       "      <td>قال مسؤول عراقي، لمجلة #نيوزويك \"إن مظاهرة الس...</td>\n",
       "      <td>ar</td>\n",
       "    </tr>\n",
       "    <tr>\n",
       "      <th>1</th>\n",
       "      <td>داداش فارسی توییت میزنم چون میدونم فارسی متوجه...</td>\n",
       "      <td>fa</td>\n",
       "    </tr>\n",
       "    <tr>\n",
       "      <th>2</th>\n",
       "      <td>#خامنه‌ای #اعتراضات_سراسری #سفارت_آمریکا #آبان...</td>\n",
       "      <td>fa</td>\n",
       "    </tr>\n",
       "    <tr>\n",
       "      <th>3</th>\n",
       "      <td>در سال ۱۳۵۸ جمهوری اسلامی با #اشغال_سفارت آمری...</td>\n",
       "      <td>fa</td>\n",
       "    </tr>\n",
       "    <tr>\n",
       "      <th>4</th>\n",
       "      <td>اللهم يا سميع الدعاء زلزل الأرض من تحت أقدام #...</td>\n",
       "      <td>ar</td>\n",
       "    </tr>\n",
       "  </tbody>\n",
       "</table>\n",
       "</div>"
      ],
      "text/plain": [
       "                                                text language\n",
       "0  قال مسؤول عراقي، لمجلة #نيوزويك \"إن مظاهرة الس...       ar\n",
       "1  داداش فارسی توییت میزنم چون میدونم فارسی متوجه...       fa\n",
       "2  #خامنه‌ای #اعتراضات_سراسری #سفارت_آمریکا #آبان...       fa\n",
       "3  در سال ۱۳۵۸ جمهوری اسلامی با #اشغال_سفارت آمری...       fa\n",
       "4  اللهم يا سميع الدعاء زلزل الأرض من تحت أقدام #...       ar"
      ]
     },
     "execution_count": 13,
     "metadata": {},
     "output_type": "execute_result"
    }
   ],
   "source": [
    "tweet_lang.head()"
   ]
  },
  {
   "cell_type": "code",
   "execution_count": 14,
   "metadata": {},
   "outputs": [],
   "source": [
    "df['language'] = tweet_lang['language']"
   ]
  },
  {
   "cell_type": "code",
   "execution_count": 15,
   "metadata": {},
   "outputs": [
    {
     "data": {
      "text/html": [
       "<div>\n",
       "<style scoped>\n",
       "    .dataframe tbody tr th:only-of-type {\n",
       "        vertical-align: middle;\n",
       "    }\n",
       "\n",
       "    .dataframe tbody tr th {\n",
       "        vertical-align: top;\n",
       "    }\n",
       "\n",
       "    .dataframe thead th {\n",
       "        text-align: right;\n",
       "    }\n",
       "</style>\n",
       "<table border=\"1\" class=\"dataframe\">\n",
       "  <thead>\n",
       "    <tr style=\"text-align: right;\">\n",
       "      <th></th>\n",
       "      <th>date</th>\n",
       "      <th>username</th>\n",
       "      <th>to</th>\n",
       "      <th>replies</th>\n",
       "      <th>retweets</th>\n",
       "      <th>favorites</th>\n",
       "      <th>text</th>\n",
       "      <th>mentions</th>\n",
       "      <th>hashtags</th>\n",
       "      <th>id</th>\n",
       "      <th>permalink</th>\n",
       "      <th>text_mentions</th>\n",
       "      <th>text_links</th>\n",
       "      <th>cleaned_text</th>\n",
       "      <th>language</th>\n",
       "    </tr>\n",
       "  </thead>\n",
       "  <tbody>\n",
       "    <tr>\n",
       "      <th>0</th>\n",
       "      <td>2020-01-01 00:03:23</td>\n",
       "      <td>shahokurdy</td>\n",
       "      <td>Newsweek</td>\n",
       "      <td>6</td>\n",
       "      <td>60</td>\n",
       "      <td>135</td>\n",
       "      <td>قال مسؤول عراقي، لمجلة #نيوزويك \"إن مظاهرة الس...</td>\n",
       "      <td>@Jamal_Atamimihttps</td>\n",
       "      <td>#نيوزويك #انتفاضة_عراقية #تخطيط_عسكري #الحرس_ا...</td>\n",
       "      <td>1212162364012978176</td>\n",
       "      <td>https://twitter.com/shahokurdy/status/12121623...</td>\n",
       "      <td>@Jamal_Atamimihttps</td>\n",
       "      <td>https://twitter.com/Newsweek/status/1212142920...</td>\n",
       "      <td>قال مسؤول عراقي، لمجلة #نيوزويك \"إن مظاهرة الس...</td>\n",
       "      <td>ar</td>\n",
       "    </tr>\n",
       "    <tr>\n",
       "      <th>1</th>\n",
       "      <td>2020-01-01 00:04:52</td>\n",
       "      <td>DarkPhoeinx</td>\n",
       "      <td>hmdkh67</td>\n",
       "      <td>1</td>\n",
       "      <td>0</td>\n",
       "      <td>0</td>\n",
       "      <td>داداش فارسی توییت میزنم چون میدونم فارسی متوجه...</td>\n",
       "      <td>NaN</td>\n",
       "      <td>#قاسم_سلیمانی #خامنه #سپاه_تروریستی_پاسداران</td>\n",
       "      <td>1212162737704513537</td>\n",
       "      <td>https://twitter.com/DarkPhoeinx/status/1212162...</td>\n",
       "      <td>NaN</td>\n",
       "      <td>NaN</td>\n",
       "      <td>داداش فارسی توییت میزنم چون میدونم فارسی متوجه...</td>\n",
       "      <td>fa</td>\n",
       "    </tr>\n",
       "    <tr>\n",
       "      <th>2</th>\n",
       "      <td>2020-01-01 00:26:43</td>\n",
       "      <td>benrezaei</td>\n",
       "      <td>NaN</td>\n",
       "      <td>0</td>\n",
       "      <td>0</td>\n",
       "      <td>0</td>\n",
       "      <td>#خامنه‌ای #اعتراضات_سراسری #سفارت_آمریکا #آبان...</td>\n",
       "      <td>@IsraelPersian @USAdarFarsi</td>\n",
       "      <td>#خامنه #اعتراضات_سراسری #سفارت_آمریکا #آبان_٩٨...</td>\n",
       "      <td>1212168235673640960</td>\n",
       "      <td>https://twitter.com/benrezaei/status/121216823...</td>\n",
       "      <td>@IsraelPersian @USAdarFarsi</td>\n",
       "      <td>pic.twitter.com/KgnsLi6oj6</td>\n",
       "      <td>#خامنه‌ای #اعتراضات_سراسری #سفارت_آمریکا #آبان...</td>\n",
       "      <td>fa</td>\n",
       "    </tr>\n",
       "    <tr>\n",
       "      <th>3</th>\n",
       "      <td>2020-01-01 00:58:39</td>\n",
       "      <td>DavoodKrm</td>\n",
       "      <td>NaN</td>\n",
       "      <td>0</td>\n",
       "      <td>0</td>\n",
       "      <td>2</td>\n",
       "      <td>در سال ۱۳۵۸ جمهوری اسلامی با #اشغال_سفارت آمری...</td>\n",
       "      <td>@IranIntl @bbcpersian</td>\n",
       "      <td>#اشغال_سفارت #ایران_اینترنشنال #کتائب_حزب_الله...</td>\n",
       "      <td>1212176274069819393</td>\n",
       "      <td>https://twitter.com/DavoodKrm/status/121217627...</td>\n",
       "      <td>@IranIntl @bbcpersian</td>\n",
       "      <td>NaN</td>\n",
       "      <td>در سال ۱۳۵۸ جمهوری اسلامی با #اشغال_سفارت آمری...</td>\n",
       "      <td>fa</td>\n",
       "    </tr>\n",
       "    <tr>\n",
       "      <th>4</th>\n",
       "      <td>2020-01-01 02:54:03</td>\n",
       "      <td>Guidance_Free</td>\n",
       "      <td>NaN</td>\n",
       "      <td>4</td>\n",
       "      <td>3</td>\n",
       "      <td>7</td>\n",
       "      <td>اللهم يا سميع الدعاء زلزل الأرض من تحت أقدام #...</td>\n",
       "      <td>NaN</td>\n",
       "      <td>#خامنئي #قاسم_سليماني #الحشد_الشعبي #بسيج #الح...</td>\n",
       "      <td>1212205313358782464</td>\n",
       "      <td>https://twitter.com/Guidance_Free/status/12122...</td>\n",
       "      <td>NaN</td>\n",
       "      <td>NaN</td>\n",
       "      <td>اللهم يا سميع الدعاء زلزل الأرض من تحت أقدام #...</td>\n",
       "      <td>ar</td>\n",
       "    </tr>\n",
       "  </tbody>\n",
       "</table>\n",
       "</div>"
      ],
      "text/plain": [
       "                  date       username        to  replies  retweets  favorites  \\\n",
       "0  2020-01-01 00:03:23     shahokurdy  Newsweek        6        60        135   \n",
       "1  2020-01-01 00:04:52    DarkPhoeinx   hmdkh67        1         0          0   \n",
       "2  2020-01-01 00:26:43      benrezaei       NaN        0         0          0   \n",
       "3  2020-01-01 00:58:39      DavoodKrm       NaN        0         0          2   \n",
       "4  2020-01-01 02:54:03  Guidance_Free       NaN        4         3          7   \n",
       "\n",
       "                                                text  \\\n",
       "0  قال مسؤول عراقي، لمجلة #نيوزويك \"إن مظاهرة الس...   \n",
       "1  داداش فارسی توییت میزنم چون میدونم فارسی متوجه...   \n",
       "2  #خامنه‌ای #اعتراضات_سراسری #سفارت_آمریکا #آبان...   \n",
       "3  در سال ۱۳۵۸ جمهوری اسلامی با #اشغال_سفارت آمری...   \n",
       "4  اللهم يا سميع الدعاء زلزل الأرض من تحت أقدام #...   \n",
       "\n",
       "                      mentions  \\\n",
       "0          @Jamal_Atamimihttps   \n",
       "1                          NaN   \n",
       "2  @IsraelPersian @USAdarFarsi   \n",
       "3        @IranIntl @bbcpersian   \n",
       "4                          NaN   \n",
       "\n",
       "                                            hashtags                   id  \\\n",
       "0  #نيوزويك #انتفاضة_عراقية #تخطيط_عسكري #الحرس_ا...  1212162364012978176   \n",
       "1       #قاسم_سلیمانی #خامنه #سپاه_تروریستی_پاسداران  1212162737704513537   \n",
       "2  #خامنه #اعتراضات_سراسری #سفارت_آمریکا #آبان_٩٨...  1212168235673640960   \n",
       "3  #اشغال_سفارت #ایران_اینترنشنال #کتائب_حزب_الله...  1212176274069819393   \n",
       "4  #خامنئي #قاسم_سليماني #الحشد_الشعبي #بسيج #الح...  1212205313358782464   \n",
       "\n",
       "                                           permalink  \\\n",
       "0  https://twitter.com/shahokurdy/status/12121623...   \n",
       "1  https://twitter.com/DarkPhoeinx/status/1212162...   \n",
       "2  https://twitter.com/benrezaei/status/121216823...   \n",
       "3  https://twitter.com/DavoodKrm/status/121217627...   \n",
       "4  https://twitter.com/Guidance_Free/status/12122...   \n",
       "\n",
       "                 text_mentions  \\\n",
       "0          @Jamal_Atamimihttps   \n",
       "1                          NaN   \n",
       "2  @IsraelPersian @USAdarFarsi   \n",
       "3        @IranIntl @bbcpersian   \n",
       "4                          NaN   \n",
       "\n",
       "                                          text_links  \\\n",
       "0  https://twitter.com/Newsweek/status/1212142920...   \n",
       "1                                                NaN   \n",
       "2                         pic.twitter.com/KgnsLi6oj6   \n",
       "3                                                NaN   \n",
       "4                                                NaN   \n",
       "\n",
       "                                        cleaned_text language  \n",
       "0  قال مسؤول عراقي، لمجلة #نيوزويك \"إن مظاهرة الس...       ar  \n",
       "1  داداش فارسی توییت میزنم چون میدونم فارسی متوجه...       fa  \n",
       "2  #خامنه‌ای #اعتراضات_سراسری #سفارت_آمریکا #آبان...       fa  \n",
       "3  در سال ۱۳۵۸ جمهوری اسلامی با #اشغال_سفارت آمری...       fa  \n",
       "4  اللهم يا سميع الدعاء زلزل الأرض من تحت أقدام #...       ar  "
      ]
     },
     "execution_count": 15,
     "metadata": {},
     "output_type": "execute_result"
    }
   ],
   "source": [
    "df.head()"
   ]
  },
  {
   "cell_type": "code",
   "execution_count": 16,
   "metadata": {},
   "outputs": [
    {
     "data": {
      "text/plain": [
       "array(['ar', 'fa', 'en', 'sd', 'und', 'fr', 'ps', 'co', 'pt', 'ja', 'ku',\n",
       "       'ur', 'es', 'iw', 'ha', 'it', 'tr', 'th', 'ko', 'id', 'ms', 'de',\n",
       "       'hi', 'no', 'bn', 'cs', 'mr', 'ml', 'sw', 'az', 'fi', 'sn', 'lv',\n",
       "       'cy', 'vi', 'ru', 'bg', 'nl', 'uz', 'jw', 'la', 'ta', 'zu', 'ceb',\n",
       "       'gu', 'kn', 'hr', 'yi', 'fy', 'so', 'pl', 'zh-TW', 'tg', 'ny',\n",
       "       'lb', 'eo', 'eu'], dtype=object)"
      ]
     },
     "execution_count": 16,
     "metadata": {},
     "output_type": "execute_result"
    }
   ],
   "source": [
    "df['language'].unique()"
   ]
  },
  {
   "cell_type": "code",
   "execution_count": 17,
   "metadata": {},
   "outputs": [],
   "source": [
    "df.to_csv(\"Data/tweets_lang_added.csv\")"
   ]
  },
  {
   "cell_type": "code",
   "execution_count": 18,
   "metadata": {},
   "outputs": [
    {
     "data": {
      "text/plain": [
       "(79545, 15)"
      ]
     },
     "execution_count": 18,
     "metadata": {},
     "output_type": "execute_result"
    }
   ],
   "source": [
    "df[df.language == 'fa'].shape"
   ]
  },
  {
   "cell_type": "code",
   "execution_count": 19,
   "metadata": {},
   "outputs": [
    {
     "data": {
      "text/plain": [
       "115164"
      ]
     },
     "execution_count": 19,
     "metadata": {},
     "output_type": "execute_result"
    }
   ],
   "source": [
    "df[df['language'] == 'ar'].shape[0]"
   ]
  },
  {
   "cell_type": "code",
   "execution_count": 20,
   "metadata": {},
   "outputs": [
    {
     "data": {
      "text/plain": [
       "5082"
      ]
     },
     "execution_count": 20,
     "metadata": {},
     "output_type": "execute_result"
    }
   ],
   "source": [
    "df[df['language'] == 'en'].shape[0]\n"
   ]
  },
  {
   "cell_type": "code",
   "execution_count": null,
   "metadata": {},
   "outputs": [],
   "source": []
  }
 ],
 "metadata": {
  "kernelspec": {
   "display_name": "Python 3",
   "language": "python",
   "name": "python3"
  },
  "language_info": {
   "codemirror_mode": {
    "name": "ipython",
    "version": 3
   },
   "file_extension": ".py",
   "mimetype": "text/x-python",
   "name": "python",
   "nbconvert_exporter": "python",
   "pygments_lexer": "ipython3",
   "version": "3.7.5"
  }
 },
 "nbformat": 4,
 "nbformat_minor": 4
}
