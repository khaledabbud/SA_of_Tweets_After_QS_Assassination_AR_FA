{
 "cells": [
  {
   "cell_type": "markdown",
   "metadata": {},
   "source": [
    "# Pre-processing the Data"
   ]
  },
  {
   "cell_type": "code",
   "execution_count": 1,
   "metadata": {},
   "outputs": [],
   "source": [
    "import pandas as pd\n",
    "import numpy as np\n",
    "import re"
   ]
  },
  {
   "cell_type": "code",
   "execution_count": 2,
   "metadata": {},
   "outputs": [
    {
     "data": {
      "text/plain": [
       "(203419, 12)"
      ]
     },
     "execution_count": 2,
     "metadata": {},
     "output_type": "execute_result"
    }
   ],
   "source": [
    "df = pd.read_csv(\"Data/concatenated_data.csv\")\n",
    "df.shape"
   ]
  },
  {
   "cell_type": "markdown",
   "metadata": {},
   "source": [
    "### Deleting 'geo' column as it doesn't have any information"
   ]
  },
  {
   "cell_type": "code",
   "execution_count": 3,
   "metadata": {},
   "outputs": [
    {
     "data": {
      "text/plain": [
       "Index(['date', 'username', 'to', 'replies', 'retweets', 'favorites', 'text',\n",
       "       'mentions', 'hashtags', 'id', 'permalink'],\n",
       "      dtype='object')"
      ]
     },
     "execution_count": 3,
     "metadata": {},
     "output_type": "execute_result"
    }
   ],
   "source": [
    "del df['geo']\n",
    "df.columns"
   ]
  },
  {
   "cell_type": "code",
   "execution_count": 4,
   "metadata": {},
   "outputs": [
    {
     "data": {
      "text/html": [
       "<div>\n",
       "<style scoped>\n",
       "    .dataframe tbody tr th:only-of-type {\n",
       "        vertical-align: middle;\n",
       "    }\n",
       "\n",
       "    .dataframe tbody tr th {\n",
       "        vertical-align: top;\n",
       "    }\n",
       "\n",
       "    .dataframe thead th {\n",
       "        text-align: right;\n",
       "    }\n",
       "</style>\n",
       "<table border=\"1\" class=\"dataframe\">\n",
       "  <thead>\n",
       "    <tr style=\"text-align: right;\">\n",
       "      <th></th>\n",
       "      <th>date</th>\n",
       "      <th>username</th>\n",
       "      <th>to</th>\n",
       "      <th>replies</th>\n",
       "      <th>retweets</th>\n",
       "      <th>favorites</th>\n",
       "      <th>text</th>\n",
       "      <th>mentions</th>\n",
       "      <th>hashtags</th>\n",
       "      <th>id</th>\n",
       "      <th>permalink</th>\n",
       "    </tr>\n",
       "  </thead>\n",
       "  <tbody>\n",
       "    <tr>\n",
       "      <th>0</th>\n",
       "      <td>2020-01-01 00:03:23</td>\n",
       "      <td>shahokurdy</td>\n",
       "      <td>Newsweek</td>\n",
       "      <td>6</td>\n",
       "      <td>60</td>\n",
       "      <td>135</td>\n",
       "      <td>قال مسؤول عراقي، لمجلة #نيوزويك \"إن مظاهرة الس...</td>\n",
       "      <td>@Jamal_Atamimihttps</td>\n",
       "      <td>#نيوزويك #انتفاضة_عراقية #تخطيط_عسكري #الحرس_ا...</td>\n",
       "      <td>1212162364012978176</td>\n",
       "      <td>https://twitter.com/shahokurdy/status/12121623...</td>\n",
       "    </tr>\n",
       "    <tr>\n",
       "      <th>1</th>\n",
       "      <td>2020-01-01 00:04:52</td>\n",
       "      <td>DarkPhoeinx</td>\n",
       "      <td>hmdkh67</td>\n",
       "      <td>1</td>\n",
       "      <td>0</td>\n",
       "      <td>0</td>\n",
       "      <td>داداش فارسی توییت میزنم چون میدونم فارسی متوجه...</td>\n",
       "      <td>NaN</td>\n",
       "      <td>#قاسم_سلیمانی #خامنه #سپاه_تروریستی_پاسداران</td>\n",
       "      <td>1212162737704513537</td>\n",
       "      <td>https://twitter.com/DarkPhoeinx/status/1212162...</td>\n",
       "    </tr>\n",
       "    <tr>\n",
       "      <th>2</th>\n",
       "      <td>2020-01-01 00:26:43</td>\n",
       "      <td>benrezaei</td>\n",
       "      <td>NaN</td>\n",
       "      <td>0</td>\n",
       "      <td>0</td>\n",
       "      <td>0</td>\n",
       "      <td>#خامنه‌ای #اعتراضات_سراسری #سفارت_آمریکا #آبان...</td>\n",
       "      <td>@IsraelPersian @USAdarFarsi</td>\n",
       "      <td>#خامنه #اعتراضات_سراسری #سفارت_آمریکا #آبان_٩٨...</td>\n",
       "      <td>1212168235673640960</td>\n",
       "      <td>https://twitter.com/benrezaei/status/121216823...</td>\n",
       "    </tr>\n",
       "    <tr>\n",
       "      <th>3</th>\n",
       "      <td>2020-01-01 00:58:39</td>\n",
       "      <td>DavoodKrm</td>\n",
       "      <td>NaN</td>\n",
       "      <td>0</td>\n",
       "      <td>0</td>\n",
       "      <td>2</td>\n",
       "      <td>در سال ۱۳۵۸ جمهوری اسلامی با #اشغال_سفارت آمری...</td>\n",
       "      <td>@IranIntl @bbcpersian</td>\n",
       "      <td>#اشغال_سفارت #ایران_اینترنشنال #کتائب_حزب_الله...</td>\n",
       "      <td>1212176274069819393</td>\n",
       "      <td>https://twitter.com/DavoodKrm/status/121217627...</td>\n",
       "    </tr>\n",
       "    <tr>\n",
       "      <th>4</th>\n",
       "      <td>2020-01-01 02:54:03</td>\n",
       "      <td>Guidance_Free</td>\n",
       "      <td>NaN</td>\n",
       "      <td>4</td>\n",
       "      <td>3</td>\n",
       "      <td>7</td>\n",
       "      <td>اللهم يا سميع الدعاء زلزل الأرض من تحت أقدام #...</td>\n",
       "      <td>NaN</td>\n",
       "      <td>#خامنئي #قاسم_سليماني #الحشد_الشعبي #بسيج #الح...</td>\n",
       "      <td>1212205313358782464</td>\n",
       "      <td>https://twitter.com/Guidance_Free/status/12122...</td>\n",
       "    </tr>\n",
       "  </tbody>\n",
       "</table>\n",
       "</div>"
      ],
      "text/plain": [
       "                  date       username        to  replies  retweets  favorites  \\\n",
       "0  2020-01-01 00:03:23     shahokurdy  Newsweek        6        60        135   \n",
       "1  2020-01-01 00:04:52    DarkPhoeinx   hmdkh67        1         0          0   \n",
       "2  2020-01-01 00:26:43      benrezaei       NaN        0         0          0   \n",
       "3  2020-01-01 00:58:39      DavoodKrm       NaN        0         0          2   \n",
       "4  2020-01-01 02:54:03  Guidance_Free       NaN        4         3          7   \n",
       "\n",
       "                                                text  \\\n",
       "0  قال مسؤول عراقي، لمجلة #نيوزويك \"إن مظاهرة الس...   \n",
       "1  داداش فارسی توییت میزنم چون میدونم فارسی متوجه...   \n",
       "2  #خامنه‌ای #اعتراضات_سراسری #سفارت_آمریکا #آبان...   \n",
       "3  در سال ۱۳۵۸ جمهوری اسلامی با #اشغال_سفارت آمری...   \n",
       "4  اللهم يا سميع الدعاء زلزل الأرض من تحت أقدام #...   \n",
       "\n",
       "                      mentions  \\\n",
       "0          @Jamal_Atamimihttps   \n",
       "1                          NaN   \n",
       "2  @IsraelPersian @USAdarFarsi   \n",
       "3        @IranIntl @bbcpersian   \n",
       "4                          NaN   \n",
       "\n",
       "                                            hashtags                   id  \\\n",
       "0  #نيوزويك #انتفاضة_عراقية #تخطيط_عسكري #الحرس_ا...  1212162364012978176   \n",
       "1       #قاسم_سلیمانی #خامنه #سپاه_تروریستی_پاسداران  1212162737704513537   \n",
       "2  #خامنه #اعتراضات_سراسری #سفارت_آمریکا #آبان_٩٨...  1212168235673640960   \n",
       "3  #اشغال_سفارت #ایران_اینترنشنال #کتائب_حزب_الله...  1212176274069819393   \n",
       "4  #خامنئي #قاسم_سليماني #الحشد_الشعبي #بسيج #الح...  1212205313358782464   \n",
       "\n",
       "                                           permalink  \n",
       "0  https://twitter.com/shahokurdy/status/12121623...  \n",
       "1  https://twitter.com/DarkPhoeinx/status/1212162...  \n",
       "2  https://twitter.com/benrezaei/status/121216823...  \n",
       "3  https://twitter.com/DavoodKrm/status/121217627...  \n",
       "4  https://twitter.com/Guidance_Free/status/12122...  "
      ]
     },
     "execution_count": 4,
     "metadata": {},
     "output_type": "execute_result"
    }
   ],
   "source": [
    "df.head()"
   ]
  },
  {
   "cell_type": "markdown",
   "metadata": {},
   "source": [
    "### Cleaning the tweets and storing the result in 'cleaned_text', 'text_mentions' and 'text_links' columns"
   ]
  },
  {
   "cell_type": "code",
   "execution_count": 5,
   "metadata": {},
   "outputs": [],
   "source": [
    "def clean_text(row):\n",
    "    '''\n",
    "    Takes the mentions and the links out of the text and add three columns to df:\n",
    "    - text_mentions: mentions extracted from the text column \n",
    "    - text_links: links extracted from the text column\n",
    "    - cleaned_text: the text column without links and mentions\n",
    "    \n",
    "    Arguments: \n",
    "     -row: a row of a pandas.DataFrame\n",
    "    \n",
    "    return: \n",
    "    - modified row: a row of a pandas.DataFrame\n",
    "    '''\n",
    "    text = row['text']\n",
    "    mentions = re.findall('@[A-Za-z0-9_]+', text)\n",
    "    links = re.findall('http[^\\s#]+|pic.twitter.com/[^\\s#]+', text)\n",
    "    for m in mentions:\n",
    "        start = text.find(m)\n",
    "        end = start + len(m)\n",
    "        text = text[:start] + text[end:]\n",
    "    sm = ''\n",
    "    for m in mentions:\n",
    "        sm = sm + m  + ' '\n",
    "    mentions_str = sm.strip()\n",
    "    row['text_mentions'] = mentions_str\n",
    "    for l in links:\n",
    "        start = text.find(l)\n",
    "        end = start + len(l)\n",
    "        text = text[:start] + text[end:]\n",
    "    sl = ''\n",
    "    for l in links:\n",
    "        sl = sl + l + ' '\n",
    "    links_str = sl.strip()\n",
    "    row['text_links'] = links_str\n",
    "    row['cleaned_text'] = text\n",
    "         \n",
    "    return row"
   ]
  },
  {
   "cell_type": "code",
   "execution_count": 6,
   "metadata": {},
   "outputs": [
    {
     "data": {
      "text/html": [
       "<div>\n",
       "<style scoped>\n",
       "    .dataframe tbody tr th:only-of-type {\n",
       "        vertical-align: middle;\n",
       "    }\n",
       "\n",
       "    .dataframe tbody tr th {\n",
       "        vertical-align: top;\n",
       "    }\n",
       "\n",
       "    .dataframe thead th {\n",
       "        text-align: right;\n",
       "    }\n",
       "</style>\n",
       "<table border=\"1\" class=\"dataframe\">\n",
       "  <thead>\n",
       "    <tr style=\"text-align: right;\">\n",
       "      <th></th>\n",
       "      <th>date</th>\n",
       "      <th>username</th>\n",
       "      <th>to</th>\n",
       "      <th>replies</th>\n",
       "      <th>retweets</th>\n",
       "      <th>favorites</th>\n",
       "      <th>text</th>\n",
       "      <th>mentions</th>\n",
       "      <th>hashtags</th>\n",
       "      <th>id</th>\n",
       "      <th>permalink</th>\n",
       "      <th>text_mentions</th>\n",
       "      <th>text_links</th>\n",
       "      <th>cleaned_text</th>\n",
       "    </tr>\n",
       "  </thead>\n",
       "  <tbody>\n",
       "    <tr>\n",
       "      <th>0</th>\n",
       "      <td>2020-01-01 00:03:23</td>\n",
       "      <td>shahokurdy</td>\n",
       "      <td>Newsweek</td>\n",
       "      <td>6</td>\n",
       "      <td>60</td>\n",
       "      <td>135</td>\n",
       "      <td>قال مسؤول عراقي، لمجلة #نيوزويك \"إن مظاهرة الس...</td>\n",
       "      <td>@Jamal_Atamimihttps</td>\n",
       "      <td>#نيوزويك #انتفاضة_عراقية #تخطيط_عسكري #الحرس_ا...</td>\n",
       "      <td>1212162364012978176</td>\n",
       "      <td>https://twitter.com/shahokurdy/status/12121623...</td>\n",
       "      <td>@Jamal_Atamimihttps</td>\n",
       "      <td>https://twitter.com/Newsweek/status/1212142920...</td>\n",
       "      <td>قال مسؤول عراقي، لمجلة #نيوزويك \"إن مظاهرة الس...</td>\n",
       "    </tr>\n",
       "    <tr>\n",
       "      <th>1</th>\n",
       "      <td>2020-01-01 00:04:52</td>\n",
       "      <td>DarkPhoeinx</td>\n",
       "      <td>hmdkh67</td>\n",
       "      <td>1</td>\n",
       "      <td>0</td>\n",
       "      <td>0</td>\n",
       "      <td>داداش فارسی توییت میزنم چون میدونم فارسی متوجه...</td>\n",
       "      <td>NaN</td>\n",
       "      <td>#قاسم_سلیمانی #خامنه #سپاه_تروریستی_پاسداران</td>\n",
       "      <td>1212162737704513537</td>\n",
       "      <td>https://twitter.com/DarkPhoeinx/status/1212162...</td>\n",
       "      <td></td>\n",
       "      <td></td>\n",
       "      <td>داداش فارسی توییت میزنم چون میدونم فارسی متوجه...</td>\n",
       "    </tr>\n",
       "    <tr>\n",
       "      <th>2</th>\n",
       "      <td>2020-01-01 00:26:43</td>\n",
       "      <td>benrezaei</td>\n",
       "      <td>NaN</td>\n",
       "      <td>0</td>\n",
       "      <td>0</td>\n",
       "      <td>0</td>\n",
       "      <td>#خامنه‌ای #اعتراضات_سراسری #سفارت_آمریکا #آبان...</td>\n",
       "      <td>@IsraelPersian @USAdarFarsi</td>\n",
       "      <td>#خامنه #اعتراضات_سراسری #سفارت_آمریکا #آبان_٩٨...</td>\n",
       "      <td>1212168235673640960</td>\n",
       "      <td>https://twitter.com/benrezaei/status/121216823...</td>\n",
       "      <td>@IsraelPersian @USAdarFarsi</td>\n",
       "      <td>pic.twitter.com/KgnsLi6oj6</td>\n",
       "      <td>#خامنه‌ای #اعتراضات_سراسری #سفارت_آمریکا #آبان...</td>\n",
       "    </tr>\n",
       "    <tr>\n",
       "      <th>3</th>\n",
       "      <td>2020-01-01 00:58:39</td>\n",
       "      <td>DavoodKrm</td>\n",
       "      <td>NaN</td>\n",
       "      <td>0</td>\n",
       "      <td>0</td>\n",
       "      <td>2</td>\n",
       "      <td>در سال ۱۳۵۸ جمهوری اسلامی با #اشغال_سفارت آمری...</td>\n",
       "      <td>@IranIntl @bbcpersian</td>\n",
       "      <td>#اشغال_سفارت #ایران_اینترنشنال #کتائب_حزب_الله...</td>\n",
       "      <td>1212176274069819393</td>\n",
       "      <td>https://twitter.com/DavoodKrm/status/121217627...</td>\n",
       "      <td>@IranIntl @bbcpersian</td>\n",
       "      <td></td>\n",
       "      <td>در سال ۱۳۵۸ جمهوری اسلامی با #اشغال_سفارت آمری...</td>\n",
       "    </tr>\n",
       "    <tr>\n",
       "      <th>4</th>\n",
       "      <td>2020-01-01 02:54:03</td>\n",
       "      <td>Guidance_Free</td>\n",
       "      <td>NaN</td>\n",
       "      <td>4</td>\n",
       "      <td>3</td>\n",
       "      <td>7</td>\n",
       "      <td>اللهم يا سميع الدعاء زلزل الأرض من تحت أقدام #...</td>\n",
       "      <td>NaN</td>\n",
       "      <td>#خامنئي #قاسم_سليماني #الحشد_الشعبي #بسيج #الح...</td>\n",
       "      <td>1212205313358782464</td>\n",
       "      <td>https://twitter.com/Guidance_Free/status/12122...</td>\n",
       "      <td></td>\n",
       "      <td></td>\n",
       "      <td>اللهم يا سميع الدعاء زلزل الأرض من تحت أقدام #...</td>\n",
       "    </tr>\n",
       "  </tbody>\n",
       "</table>\n",
       "</div>"
      ],
      "text/plain": [
       "                  date       username        to  replies  retweets  favorites  \\\n",
       "0  2020-01-01 00:03:23     shahokurdy  Newsweek        6        60        135   \n",
       "1  2020-01-01 00:04:52    DarkPhoeinx   hmdkh67        1         0          0   \n",
       "2  2020-01-01 00:26:43      benrezaei       NaN        0         0          0   \n",
       "3  2020-01-01 00:58:39      DavoodKrm       NaN        0         0          2   \n",
       "4  2020-01-01 02:54:03  Guidance_Free       NaN        4         3          7   \n",
       "\n",
       "                                                text  \\\n",
       "0  قال مسؤول عراقي، لمجلة #نيوزويك \"إن مظاهرة الس...   \n",
       "1  داداش فارسی توییت میزنم چون میدونم فارسی متوجه...   \n",
       "2  #خامنه‌ای #اعتراضات_سراسری #سفارت_آمریکا #آبان...   \n",
       "3  در سال ۱۳۵۸ جمهوری اسلامی با #اشغال_سفارت آمری...   \n",
       "4  اللهم يا سميع الدعاء زلزل الأرض من تحت أقدام #...   \n",
       "\n",
       "                      mentions  \\\n",
       "0          @Jamal_Atamimihttps   \n",
       "1                          NaN   \n",
       "2  @IsraelPersian @USAdarFarsi   \n",
       "3        @IranIntl @bbcpersian   \n",
       "4                          NaN   \n",
       "\n",
       "                                            hashtags                   id  \\\n",
       "0  #نيوزويك #انتفاضة_عراقية #تخطيط_عسكري #الحرس_ا...  1212162364012978176   \n",
       "1       #قاسم_سلیمانی #خامنه #سپاه_تروریستی_پاسداران  1212162737704513537   \n",
       "2  #خامنه #اعتراضات_سراسری #سفارت_آمریکا #آبان_٩٨...  1212168235673640960   \n",
       "3  #اشغال_سفارت #ایران_اینترنشنال #کتائب_حزب_الله...  1212176274069819393   \n",
       "4  #خامنئي #قاسم_سليماني #الحشد_الشعبي #بسيج #الح...  1212205313358782464   \n",
       "\n",
       "                                           permalink  \\\n",
       "0  https://twitter.com/shahokurdy/status/12121623...   \n",
       "1  https://twitter.com/DarkPhoeinx/status/1212162...   \n",
       "2  https://twitter.com/benrezaei/status/121216823...   \n",
       "3  https://twitter.com/DavoodKrm/status/121217627...   \n",
       "4  https://twitter.com/Guidance_Free/status/12122...   \n",
       "\n",
       "                 text_mentions  \\\n",
       "0          @Jamal_Atamimihttps   \n",
       "1                                \n",
       "2  @IsraelPersian @USAdarFarsi   \n",
       "3        @IranIntl @bbcpersian   \n",
       "4                                \n",
       "\n",
       "                                          text_links  \\\n",
       "0  https://twitter.com/Newsweek/status/1212142920...   \n",
       "1                                                      \n",
       "2                         pic.twitter.com/KgnsLi6oj6   \n",
       "3                                                      \n",
       "4                                                      \n",
       "\n",
       "                                        cleaned_text  \n",
       "0  قال مسؤول عراقي، لمجلة #نيوزويك \"إن مظاهرة الس...  \n",
       "1  داداش فارسی توییت میزنم چون میدونم فارسی متوجه...  \n",
       "2  #خامنه‌ای #اعتراضات_سراسری #سفارت_آمریکا #آبان...  \n",
       "3  در سال ۱۳۵۸ جمهوری اسلامی با #اشغال_سفارت آمری...  \n",
       "4  اللهم يا سميع الدعاء زلزل الأرض من تحت أقدام #...  "
      ]
     },
     "execution_count": 6,
     "metadata": {},
     "output_type": "execute_result"
    }
   ],
   "source": [
    "df = df.apply(clean_text, axis=1)\n",
    "df.head()"
   ]
  },
  {
   "cell_type": "code",
   "execution_count": 7,
   "metadata": {},
   "outputs": [
    {
     "data": {
      "text/plain": [
       "Index(['date', 'username', 'to', 'replies', 'retweets', 'favorites', 'text',\n",
       "       'mentions', 'hashtags', 'id', 'permalink', 'text_mentions',\n",
       "       'text_links', 'cleaned_text'],\n",
       "      dtype='object')"
      ]
     },
     "execution_count": 7,
     "metadata": {},
     "output_type": "execute_result"
    }
   ],
   "source": [
    "df.columns"
   ]
  },
  {
   "cell_type": "markdown",
   "metadata": {},
   "source": [
    "### Comparing 'text_mentions' column I created with the 'mentions' column created when collecting the data "
   ]
  },
  {
   "cell_type": "code",
   "execution_count": 8,
   "metadata": {},
   "outputs": [
    {
     "data": {
      "text/plain": [
       "array([nan, '@', '@وتم', '@ @', '@ @Suzana_tour', '@adashtعاجل', '@ریئل',\n",
       "       '@Abbasaghaبا',\n",
       "       '@Sultan8230291 @majedalraeesi1 @qashe3i @sjadad1 @',\n",
       "       '@realDonaldTrumpلقد', '@yazdmajazi @', '@ويطم', '@علي', '@نقدر',\n",
       "       '@ر', '@ziad_hawat @ @samygemayel', '@realDonaldTrump @Israel @',\n",
       "       '@mighat313 @liea_abnosدار', '@YouTubeالله', '@mostafatajzadeو',\n",
       "       '@Amos_Alsalemحرب', '@جشن',\n",
       "       '@Khamenei_faنتيجه @Rouhani_ir @JZarif', '@AJArabicهذا',\n",
       "       '@Khamenei_fa @', '@غرد_مثل_خلف', '@وهو', '@TamimBinHamadأول',\n",
       "       '@مام'], dtype=object)"
      ]
     },
     "execution_count": 8,
     "metadata": {},
     "output_type": "execute_result"
    }
   ],
   "source": [
    "df_test = df[df['mentions'] != df['text_mentions']]\n",
    "df_test['mentions'].unique()"
   ]
  },
  {
   "cell_type": "code",
   "execution_count": 9,
   "metadata": {},
   "outputs": [
    {
     "data": {
      "text/plain": [
       "array(['', '@Suzana_tour', '@adasht', '@Abbasagha',\n",
       "       '@Sultan8230291 @majedalraeesi1 @qashe3i @sjadad1',\n",
       "       '@realDonaldTrump', '@yazdmajazi', '@ziad_hawat @samygemayel',\n",
       "       '@realDonaldTrump @Israel', '@mighat313 @liea_abnos', '@YouTube',\n",
       "       '@mostafatajzade', '@Amos_Alsalem',\n",
       "       '@Khamenei_fa @Rouhani_ir @JZarif', '@AJArabic', '@Khamenei_fa',\n",
       "       '@TamimBinHamad'], dtype=object)"
      ]
     },
     "execution_count": 9,
     "metadata": {},
     "output_type": "execute_result"
    }
   ],
   "source": [
    "df_test['text_mentions'].unique()"
   ]
  },
  {
   "cell_type": "code",
   "execution_count": 10,
   "metadata": {},
   "outputs": [],
   "source": [
    "df.to_csv(\"Data/cleaned_data.csv\", index = False)"
   ]
  },
  {
   "cell_type": "code",
   "execution_count": 32,
   "metadata": {},
   "outputs": [],
   "source": []
  }
 ],
 "metadata": {
  "kernelspec": {
   "display_name": "Python 3",
   "language": "python",
   "name": "python3"
  },
  "language_info": {
   "codemirror_mode": {
    "name": "ipython",
    "version": 3
   },
   "file_extension": ".py",
   "mimetype": "text/x-python",
   "name": "python",
   "nbconvert_exporter": "python",
   "pygments_lexer": "ipython3",
   "version": "3.7.5"
  }
 },
 "nbformat": 4,
 "nbformat_minor": 4
}
