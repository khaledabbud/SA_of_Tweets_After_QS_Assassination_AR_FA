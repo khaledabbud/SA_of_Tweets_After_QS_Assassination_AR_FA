{
 "cells": [
  {
   "cell_type": "markdown",
   "metadata": {},
   "source": [
    "### Reading the Arabic tweets file and cleaning it\n",
    "#### I made some mistakes while labling the data and sometimes entered zr, tar instead of Arabic"
   ]
  },
  {
   "cell_type": "code",
   "execution_count": 1,
   "metadata": {},
   "outputs": [],
   "source": [
    "import pandas as pd\n",
    "df = pd.read_csv(\"tweets_sent_ar.csv\")"
   ]
  },
  {
   "cell_type": "code",
   "execution_count": 2,
   "metadata": {},
   "outputs": [
    {
     "data": {
      "text/plain": [
       "Index(['Unnamed: 0', 'Unnamed: 0.1', 'date', 'username', 'to', 'replies',\n",
       "       'retweets', 'favorites', 'text', 'mentions', 'hashtags', 'id',\n",
       "       'permalink', 'text_mentions', 'text_links', 'cleaned_text', 'language',\n",
       "       'sentiment', 'hate'],\n",
       "      dtype='object')"
      ]
     },
     "execution_count": 2,
     "metadata": {},
     "output_type": "execute_result"
    }
   ],
   "source": [
    "df.columns"
   ]
  },
  {
   "cell_type": "code",
   "execution_count": 3,
   "metadata": {},
   "outputs": [
    {
     "data": {
      "text/plain": [
       "array(['ar', 'en', 'no', '\\tar', 'zr', 'en 2', 'fa'], dtype=object)"
      ]
     },
     "execution_count": 3,
     "metadata": {},
     "output_type": "execute_result"
    }
   ],
   "source": [
    "df['language'].unique()"
   ]
  },
  {
   "cell_type": "code",
   "execution_count": 4,
   "metadata": {},
   "outputs": [],
   "source": [
    "df.drop(df[df['language'].isin([\"en\", 'en 2', 'no', 'fa'])].index, inplace=True)"
   ]
  },
  {
   "cell_type": "code",
   "execution_count": 5,
   "metadata": {},
   "outputs": [],
   "source": [
    "df['language'] = 'ar'"
   ]
  },
  {
   "cell_type": "code",
   "execution_count": 6,
   "metadata": {},
   "outputs": [],
   "source": [
    "df_s = df[df['sentiment'].isna()]"
   ]
  },
  {
   "cell_type": "code",
   "execution_count": 7,
   "metadata": {},
   "outputs": [],
   "source": [
    "df_t = df.dropna(subset=['sentiment'])"
   ]
  },
  {
   "cell_type": "code",
   "execution_count": 8,
   "metadata": {},
   "outputs": [
    {
     "data": {
      "text/plain": [
       "Int64Index([   146,    187,    255,    306,    390,    433,    646,    806,\n",
       "               854,    971,\n",
       "            ...\n",
       "            114029, 114064, 114128, 114190, 114341, 114516, 114562, 114666,\n",
       "            114996, 115108],\n",
       "           dtype='int64', length=966)"
      ]
     },
     "execution_count": 8,
     "metadata": {},
     "output_type": "execute_result"
    }
   ],
   "source": [
    "df_t.index"
   ]
  },
  {
   "cell_type": "code",
   "execution_count": 9,
   "metadata": {},
   "outputs": [
    {
     "name": "stderr",
     "output_type": "stream",
     "text": [
      "C:\\Users\\laura\\Anaconda3\\lib\\site-packages\\pandas\\core\\frame.py:4117: SettingWithCopyWarning: \n",
      "A value is trying to be set on a copy of a slice from a DataFrame\n",
      "\n",
      "See the caveats in the documentation: http://pandas.pydata.org/pandas-docs/stable/user_guide/indexing.html#returning-a-view-versus-a-copy\n",
      "  errors=errors,\n"
     ]
    }
   ],
   "source": [
    "df_t.drop(df_t[df_t['sentiment'] == 2].index, inplace = True)"
   ]
  },
  {
   "cell_type": "code",
   "execution_count": 10,
   "metadata": {},
   "outputs": [],
   "source": [
    "df_train_final = df_t.drop(df_t[df_t['sentiment'] == 0].index)"
   ]
  },
  {
   "cell_type": "code",
   "execution_count": 11,
   "metadata": {},
   "outputs": [],
   "source": [
    "from nltk.classify import NaiveBayesClassifier\n",
    "import nltk"
   ]
  },
  {
   "cell_type": "code",
   "execution_count": 12,
   "metadata": {},
   "outputs": [],
   "source": [
    "import random"
   ]
  },
  {
   "cell_type": "code",
   "execution_count": 13,
   "metadata": {},
   "outputs": [],
   "source": [
    "def create_documents(row):\n",
    "    return nltk.word_tokenize(row['cleaned_text']) , row['sentiment']"
   ]
  },
  {
   "cell_type": "code",
   "execution_count": 14,
   "metadata": {},
   "outputs": [],
   "source": [
    "df_train_final['tokenized_text'] = df_train_final['cleaned_text'].apply(nltk.word_tokenize)\n",
    "documents = [tuple(x) for x in df_train_final[['tokenized_text', 'sentiment']].to_numpy()]"
   ]
  },
  {
   "cell_type": "code",
   "execution_count": 15,
   "metadata": {},
   "outputs": [
    {
     "data": {
      "text/plain": [
       "(['#',\n",
       "  'قاسم_سليماني',\n",
       "  'اللهمّ',\n",
       "  'أبدله',\n",
       "  'داراً',\n",
       "  'أسوأ',\n",
       "  'من',\n",
       "  'داره',\n",
       "  'وأهلاً',\n",
       "  'أسوأ',\n",
       "  'من',\n",
       "  'أهله،',\n",
       "  'وأدخله',\n",
       "  'النار،',\n",
       "  'وزد',\n",
       "  'عليه',\n",
       "  'من',\n",
       "  'عذاب',\n",
       "  'القبر،',\n",
       "  'ومن',\n",
       "  'عذاب',\n",
       "  'الآخرة',\n",
       "  '.',\n",
       "  'اللهمّ',\n",
       "  'عامله',\n",
       "  'بما',\n",
       "  'هو',\n",
       "  'أهله',\n",
       "  '.',\n",
       "  'اللهمّ',\n",
       "  'لا',\n",
       "  'تجزه',\n",
       "  'عن',\n",
       "  'الإحسان',\n",
       "  'إحساناً،',\n",
       "  'وعن',\n",
       "  'الإساءة',\n",
       "  'اجزه',\n",
       "  'طعام',\n",
       "  'الزقوم',\n",
       "  '...'],\n",
       " -1.0)"
      ]
     },
     "execution_count": 15,
     "metadata": {},
     "output_type": "execute_result"
    }
   ],
   "source": [
    "random.shuffle(documents)\n",
    "documents[1]"
   ]
  },
  {
   "cell_type": "code",
   "execution_count": 16,
   "metadata": {},
   "outputs": [],
   "source": [
    "all_words = []\n",
    "for row in df_train_final['tokenized_text']:\n",
    "    all_words += row"
   ]
  },
  {
   "cell_type": "code",
   "execution_count": 17,
   "metadata": {},
   "outputs": [],
   "source": [
    "all_words = nltk.FreqDist(all_words)"
   ]
  },
  {
   "cell_type": "code",
   "execution_count": 18,
   "metadata": {},
   "outputs": [
    {
     "data": {
      "text/plain": [
       "(643, 20)"
      ]
     },
     "execution_count": 18,
     "metadata": {},
     "output_type": "execute_result"
    }
   ],
   "source": [
    "df_train_final.shape"
   ]
  },
  {
   "cell_type": "code",
   "execution_count": 19,
   "metadata": {},
   "outputs": [],
   "source": [
    "def find_features(document):\n",
    "    words = set(document)\n",
    "    features = {}\n",
    "    for w in all_words:\n",
    "        features[w] = (w in words)\n",
    "    return features"
   ]
  },
  {
   "cell_type": "code",
   "execution_count": 20,
   "metadata": {},
   "outputs": [],
   "source": [
    "featuresets = [(find_features(rev), category) for (rev, category) in documents]"
   ]
  },
  {
   "cell_type": "code",
   "execution_count": 21,
   "metadata": {},
   "outputs": [],
   "source": [
    "training_set = featuresets[:500]\n",
    "testing_set = featuresets[500:]"
   ]
  },
  {
   "cell_type": "code",
   "execution_count": 22,
   "metadata": {},
   "outputs": [],
   "source": [
    "classifier = nltk.NaiveBayesClassifier.train(training_set)"
   ]
  },
  {
   "cell_type": "code",
   "execution_count": 23,
   "metadata": {},
   "outputs": [
    {
     "name": "stdout",
     "output_type": "stream",
     "text": [
      "Classifier accuracy percent: 76.22377622377621\n"
     ]
    }
   ],
   "source": [
    "print(\"Classifier accuracy percent:\",(nltk.classify.accuracy(classifier, testing_set))*100)"
   ]
  },
  {
   "cell_type": "code",
   "execution_count": 24,
   "metadata": {},
   "outputs": [],
   "source": [
    "from nltk.classify import SklearnClassifier"
   ]
  },
  {
   "cell_type": "code",
   "execution_count": 25,
   "metadata": {},
   "outputs": [
    {
     "name": "stdout",
     "output_type": "stream",
     "text": [
      "Most Informative Features\n",
      "              انتقام_سخت = True              1.0 : -1.0   =     21.1 : 1.0\n",
      "                  القائد = True              1.0 : -1.0   =     16.4 : 1.0\n",
      "                  الشهيد = True              1.0 : -1.0   =     15.5 : 1.0\n",
      "                 الشهداء = True              1.0 : -1.0   =      8.6 : 1.0\n",
      "                   السيد = True              1.0 : -1.0   =      8.6 : 1.0\n",
      "                  العراق = True             -1.0 : 1.0    =      7.6 : 1.0\n",
      "                    خلال = True              1.0 : -1.0   =      7.0 : 1.0\n",
      "                  الحسين = True              1.0 : -1.0   =      7.0 : 1.0\n",
      "                   علينا = True              1.0 : -1.0   =      7.0 : 1.0\n",
      "                    الآن = True              1.0 : -1.0   =      7.0 : 1.0\n",
      "                    مقتل = True             -1.0 : 1.0    =      6.7 : 1.0\n",
      "                   سوريا = True             -1.0 : 1.0    =      6.4 : 1.0\n",
      "                   الموت = True              1.0 : -1.0   =      5.5 : 1.0\n",
      "                     حول = True              1.0 : -1.0   =      5.5 : 1.0\n",
      "                  السلاح = True              1.0 : -1.0   =      5.5 : 1.0\n"
     ]
    }
   ],
   "source": [
    "classifier.show_most_informative_features(15)"
   ]
  },
  {
   "cell_type": "code",
   "execution_count": 26,
   "metadata": {},
   "outputs": [],
   "source": [
    "from nltk.classify.scikitlearn import SklearnClassifier\n",
    "from nltk.classify.maxent import MaxentClassifier"
   ]
  },
  {
   "cell_type": "code",
   "execution_count": 27,
   "metadata": {},
   "outputs": [],
   "source": [
    "from sklearn.naive_bayes import MultinomialNB,BernoulliNB"
   ]
  },
  {
   "cell_type": "code",
   "execution_count": 28,
   "metadata": {},
   "outputs": [
    {
     "name": "stdout",
     "output_type": "stream",
     "text": [
      "MultinomialNB accuracy percent: 0.8041958041958042\n"
     ]
    }
   ],
   "source": [
    "MNB_classifier = SklearnClassifier(MultinomialNB())\n",
    "MNB_classifier.train(training_set)\n",
    "print(\"MultinomialNB accuracy percent:\",nltk.classify.accuracy(MNB_classifier, testing_set))"
   ]
  },
  {
   "cell_type": "code",
   "execution_count": 29,
   "metadata": {},
   "outputs": [
    {
     "name": "stdout",
     "output_type": "stream",
     "text": [
      "BernoulliNB accuracy percent: 0.5874125874125874\n"
     ]
    }
   ],
   "source": [
    "BNB_classifier = SklearnClassifier(BernoulliNB())\n",
    "BNB_classifier.train(training_set)\n",
    "print(\"BernoulliNB accuracy percent:\",nltk.classify.accuracy(BNB_classifier, testing_set))"
   ]
  },
  {
   "cell_type": "code",
   "execution_count": 30,
   "metadata": {},
   "outputs": [],
   "source": [
    "from sklearn.linear_model import LogisticRegression,SGDClassifier\n",
    "from sklearn.svm import SVC, LinearSVC, NuSVC"
   ]
  },
  {
   "cell_type": "code",
   "execution_count": 31,
   "metadata": {},
   "outputs": [
    {
     "name": "stdout",
     "output_type": "stream",
     "text": [
      "Original Naive Bayes Algo accuracy percent: 76.22377622377621\n",
      "MNB_classifier accuracy percent: 80.41958041958041\n",
      "BernoulliNB_classifier accuracy percent: 58.74125874125874\n",
      "LogisticRegression_classifier accuracy percent: 79.72027972027972\n",
      "SGDClassifier_classifier accuracy percent: 80.41958041958041\n",
      "LinearSVC_classifier accuracy percent: 83.21678321678321\n",
      "NuSVC_classifier accuracy percent: 72.02797202797203\n"
     ]
    }
   ],
   "source": [
    "\n",
    "print(\"Original Naive Bayes Algo accuracy percent:\", (nltk.classify.accuracy(classifier, testing_set))*100)\n",
    "\n",
    "MNB_classifier = SklearnClassifier(MultinomialNB())\n",
    "MNB_classifier.train(training_set)\n",
    "print(\"MNB_classifier accuracy percent:\", (nltk.classify.accuracy(MNB_classifier, testing_set))*100)\n",
    "\n",
    "BernoulliNB_classifier = SklearnClassifier(BernoulliNB())\n",
    "BernoulliNB_classifier.train(training_set)\n",
    "print(\"BernoulliNB_classifier accuracy percent:\", (nltk.classify.accuracy(BernoulliNB_classifier, testing_set))*100)\n",
    "\n",
    "LogisticRegression_classifier = SklearnClassifier(LogisticRegression())\n",
    "LogisticRegression_classifier.train(training_set)\n",
    "print(\"LogisticRegression_classifier accuracy percent:\", (nltk.classify.accuracy(LogisticRegression_classifier, testing_set))*100)\n",
    "\n",
    "SGDClassifier_classifier = SklearnClassifier(SGDClassifier())\n",
    "SGDClassifier_classifier.train(training_set)\n",
    "print(\"SGDClassifier_classifier accuracy percent:\", (nltk.classify.accuracy(SGDClassifier_classifier, testing_set))*100)\n",
    "\n",
    "#SVC_classifier = SklearnClassifier(SVC())\n",
    "#SVC_classifier.train(training_set)\n",
    "#print(\"SVC_classifier accuracy percent:\", (nltk.classify.accuracy(SVC_classifier, testing_set))*100)\n",
    "\n",
    "LinearSVC_classifier = SklearnClassifier(LinearSVC())\n",
    "LinearSVC_classifier.train(training_set)\n",
    "print(\"LinearSVC_classifier accuracy percent:\", (nltk.classify.accuracy(LinearSVC_classifier, testing_set))*100)\n",
    "\n",
    "NuSVC_classifier = SklearnClassifier(NuSVC())\n",
    "NuSVC_classifier.train(training_set)\n",
    "print(\"NuSVC_classifier accuracy percent:\", (nltk.classify.accuracy(NuSVC_classifier, testing_set))*100)"
   ]
  },
  {
   "cell_type": "code",
   "execution_count": 32,
   "metadata": {},
   "outputs": [],
   "source": [
    "from nltk.classify import ClassifierI\n",
    "from statistics import mode"
   ]
  },
  {
   "cell_type": "code",
   "execution_count": 33,
   "metadata": {},
   "outputs": [],
   "source": [
    "class VoteClassifier(ClassifierI):\n",
    "    def __init__(self, *classifiers):\n",
    "        self._classifiers = classifiers\n",
    "        \n",
    "    def classify(self, features):\n",
    "        votes = []\n",
    "        for c in self._classifiers:\n",
    "            v = c.classify(features)\n",
    "            votes.append(v)\n",
    "        return mode(votes)\n",
    "    \n",
    "    def confidence(self, features):\n",
    "        votes = []\n",
    "        for c in self._classifiers:\n",
    "            v = c.classify(features)\n",
    "            votes.append(v)\n",
    "\n",
    "        choice_votes = votes.count(mode(votes))\n",
    "        conf = choice_votes / len(votes)\n",
    "        return conf"
   ]
  },
  {
   "cell_type": "code",
   "execution_count": 34,
   "metadata": {},
   "outputs": [
    {
     "name": "stdout",
     "output_type": "stream",
     "text": [
      "voted_classifier accuracy percent: 80.41958041958041\n",
      "Classification: 1.0 Confidence %: 57.14285714285714\n",
      "Classification: -1.0 Confidence %: 100.0\n",
      "Classification: 1.0 Confidence %: 71.42857142857143\n",
      "Classification: -1.0 Confidence %: 100.0\n",
      "Classification: -1.0 Confidence %: 57.14285714285714\n",
      "Classification: -1.0 Confidence %: 100.0\n"
     ]
    }
   ],
   "source": [
    "voted_classifier = VoteClassifier(classifier,\n",
    "                                  NuSVC_classifier,\n",
    "                                  LinearSVC_classifier,\n",
    "                                  SGDClassifier_classifier,\n",
    "                                  MNB_classifier,\n",
    "                                  BernoulliNB_classifier,\n",
    "                                  LogisticRegression_classifier)\n",
    "\n",
    "print(\"voted_classifier accuracy percent:\", (nltk.classify.accuracy(voted_classifier, testing_set))*100)\n",
    "\n",
    "\n",
    "print(\"Classification:\", voted_classifier.classify(testing_set[0][0]), \"Confidence %:\",voted_classifier.confidence(testing_set[0][0])*100)\n",
    "print(\"Classification:\", voted_classifier.classify(testing_set[1][0]), \"Confidence %:\",voted_classifier.confidence(testing_set[1][0])*100)\n",
    "print(\"Classification:\", voted_classifier.classify(testing_set[2][0]), \"Confidence %:\",voted_classifier.confidence(testing_set[2][0])*100)\n",
    "print(\"Classification:\", voted_classifier.classify(testing_set[3][0]), \"Confidence %:\",voted_classifier.confidence(testing_set[3][0])*100)\n",
    "print(\"Classification:\", voted_classifier.classify(testing_set[4][0]), \"Confidence %:\",voted_classifier.confidence(testing_set[4][0])*100)\n",
    "print(\"Classification:\", voted_classifier.classify(testing_set[5][0]), \"Confidence %:\",voted_classifier.confidence(testing_set[5][0])*100)"
   ]
  },
  {
   "cell_type": "markdown",
   "metadata": {},
   "source": [
    "#### Here I tried to pre process the data. I found some keywords if they are found in a tweet, there is +95% chance that it can be correctly classified pos or neg. "
   ]
  },
  {
   "cell_type": "code",
   "execution_count": 35,
   "metadata": {},
   "outputs": [],
   "source": [
    "neg_str = 'جحيم | هلك | هالك |هلاك | مبروک | الظالمين بالظالمين | ارهابي | مبروك | مجرم | جهنم | فطس | القاتل بالقتل | اطفال سوريا | خنزير | احلى خبر | قاتل الاطفال | مجرم | فارسي | خبر سعيد | ايفانكا | لايرحمه | لا يرحمه | لك الحمد | نفق | الحمد لله | الحمدلله | أجمل بداية | فيلق_الدجل_الايراني | عقبال'\n",
    "pos_str = 'سننتقم | الموت_لأمريكا | الشهيد | انتقام_سخت | الرد_قادم | انتقامی_سخت | الرد_الحتمي | انا لله | سننتقم | حاج | عجل لوليك | سيد | الجنة | السلام على | صهاينة | استشهاد | عظّم الله | سيّد'\n",
    "pos_list = pos_str.split(\"|\")\n",
    "pos_list = [x.strip() for x in pos_list]\n",
    "neg_list = neg_str.split(\"|\")\n",
    "neg_list = [x.strip() for x in neg_list]"
   ]
  },
  {
   "cell_type": "code",
   "execution_count": 36,
   "metadata": {},
   "outputs": [],
   "source": [
    "def pre_process_tweets(row):\n",
    "    for p in pos_list:\n",
    "        if p in row:\n",
    "            return 1\n",
    "    for n in neg_list:\n",
    "        if n in row:\n",
    "            return -1"
   ]
  },
  {
   "cell_type": "code",
   "execution_count": 37,
   "metadata": {},
   "outputs": [],
   "source": [
    "def sentiment(text):\n",
    "    feats = find_features(text)\n",
    "    v = voted_classifier.classify(feats)\n",
    "    conf = voted_classifier.confidence(feats)\n",
    "    if conf*100 < 60:\n",
    "        return 0\n",
    "    return v"
   ]
  },
  {
   "cell_type": "code",
   "execution_count": 38,
   "metadata": {},
   "outputs": [
    {
     "name": "stderr",
     "output_type": "stream",
     "text": [
      "C:\\Users\\laura\\Anaconda3\\lib\\site-packages\\ipykernel_launcher.py:1: SettingWithCopyWarning: \n",
      "A value is trying to be set on a copy of a slice from a DataFrame.\n",
      "Try using .loc[row_indexer,col_indexer] = value instead\n",
      "\n",
      "See the caveats in the documentation: http://pandas.pydata.org/pandas-docs/stable/user_guide/indexing.html#returning-a-view-versus-a-copy\n",
      "  \"\"\"Entry point for launching an IPython kernel.\n"
     ]
    }
   ],
   "source": [
    "df_s['sentiment'] = df_s['cleaned_text'].apply(pre_process_tweets)"
   ]
  },
  {
   "cell_type": "code",
   "execution_count": 39,
   "metadata": {},
   "outputs": [
    {
     "name": "stdout",
     "output_type": "stream",
     "text": [
      "(74778, 19)\n"
     ]
    }
   ],
   "source": [
    "df_ar_neg = df_s[df_s[\"sentiment\"] == -1]\n",
    "df_ar_neg.reset_index(drop = True, inplace = True)\n",
    "df_ar_pos = df_s[df_s[\"sentiment\"] == 1]\n",
    "df_ar_pos.reset_index(drop = True, inplace = True)\n",
    "df_classify = df_s[df_s['sentiment'].isna()]\n",
    "df_classify.reset_index(drop = True, inplace = True)\n",
    "print(df_classify.shape)"
   ]
  },
  {
   "cell_type": "markdown",
   "metadata": {},
   "source": [
    "## Now Classify!"
   ]
  },
  {
   "cell_type": "code",
   "execution_count": 40,
   "metadata": {},
   "outputs": [
    {
     "name": "stderr",
     "output_type": "stream",
     "text": [
      "C:\\Users\\laura\\Anaconda3\\lib\\site-packages\\ipykernel_launcher.py:1: SettingWithCopyWarning: \n",
      "A value is trying to be set on a copy of a slice from a DataFrame.\n",
      "Try using .loc[row_indexer,col_indexer] = value instead\n",
      "\n",
      "See the caveats in the documentation: http://pandas.pydata.org/pandas-docs/stable/user_guide/indexing.html#returning-a-view-versus-a-copy\n",
      "  \"\"\"Entry point for launching an IPython kernel.\n"
     ]
    }
   ],
   "source": [
    "df_classify['sentiment'] = df_classify['cleaned_text'].apply(sentiment)"
   ]
  },
  {
   "cell_type": "markdown",
   "metadata": {},
   "source": [
    "### I made a mistake and dropped irrelavent and natural tweets from the training dataset, here I redefine it before I concatenate all the datasets together and save them"
   ]
  },
  {
   "cell_type": "code",
   "execution_count": 41,
   "metadata": {},
   "outputs": [],
   "source": [
    "df_t = df.dropna(subset=['sentiment'])\n",
    "df_final_arabic = pd.concat([df_classify, df_t, df_ar_pos, df_ar_neg])\n",
    "\n",
    "#dropping two columns that have been added by mistake previously\n",
    "df.drop([\"Unnamed: 0\", \"Unnamed: 0.1\"], axis = 1, inplace=True)\n",
    "df_final_arabic.reset_index(drop=True, inplace=True)\n",
    "\n",
    "# Saving the data in a csv file\n",
    "df_final_arabic.to_csv(\"df_arabic_classified.csv\", index = False)"
   ]
  },
  {
   "cell_type": "markdown",
   "metadata": {},
   "source": [
    "### Print 100 randomly selected tweet from each category and check the accuracy"
   ]
  },
  {
   "cell_type": "code",
   "execution_count": 42,
   "metadata": {},
   "outputs": [
    {
     "name": "stdout",
     "output_type": "stream",
     "text": [
      "Positive:  4\n",
      "Negative:  71178\n",
      "Neutral:  3596\n"
     ]
    }
   ],
   "source": [
    "df_pos = df_classify[df_classify['sentiment'] == 1]\n",
    "print(\"Positive: \", df_pos.shape[0])\n",
    "df_neg = df_classify[df_classify['sentiment'] == -1]\n",
    "print(\"Negative: \", df_neg.shape[0])\n",
    "df_neu = df_classify[df_classify['sentiment'] == 0]\n",
    "print(\"Neutral: \", df_neu.shape[0])"
   ]
  },
  {
   "cell_type": "code",
   "execution_count": 48,
   "metadata": {},
   "outputs": [
    {
     "name": "stdout",
     "output_type": "stream",
     "text": [
      "يُقتل #قاسم_سليماني وسياتي دورك انت ايضا يا بشار وكل من سانده »وَلاَ تَحْسَبَنَّ اللّهَ غَافِلاً عَمَّا يَعْمَلُ الظَّالِمُونَ إِنَّمَا يُؤَخِّرُهُمْ لِيَوْمٍ تَشْخَصُ فِيهِ الأَبْصَار« صدق الله العظيم\n",
      "===============================\n",
      "{ اقْتَرَبَ لِلنَّاسِ حِسَابُهُمْ وَهُمْ فِى غَفْلَةٍ مُّعْرِضُونَ (1) مَا يَأْتِيهِم مِّن ذِكْرٍ مِّن رَّبِّهِم مُّحْدَثٍ إِلَّا اسْتَمَعُوهُ وَهُمْ يَلْعَبُونَ (2) «««صدق الله العظيم»»» #الحرب_العالمية_الثالثة #الهلال_الفيَصلي #قاسم_سليماني #متحرش_المدينه\n",
      "===============================\n",
      "#بغداد تستدعي السفير الأميركي على خلفية اغتيال #قاسم_سليماني • سلمته رسالة تنديد: «انتهاك صارخ لسيادة #العراق»\n",
      "===============================\n",
      "من #الصحافة_الإيرانية: • #روحاني خلال اجتماعٍه بوزير الخارجية القطري: أمريكا ستدفع ثمنًا باهظًا • وزير قطري: مستاؤون وقلقون للغاية حيال مقتل قائد «فيلق القدس» • نقاش إيراني – تركي حول التطوُّرات بعد مقتل #قاسم_سليماني المزيد من الأخبار على:  \n",
      "===============================\n"
     ]
    }
   ],
   "source": [
    "df_pos.reset_index(drop = True, inplace = True)\n",
    "#n = random.sample(range(df_pos.shape[0]-1), 100)\n",
    "for i in range(df_pos.shape[0]):\n",
    "    print(df_pos.loc[i]['cleaned_text'])\n",
    "    print(\"===============================\")"
   ]
  },
  {
   "cell_type": "code",
   "execution_count": 44,
   "metadata": {},
   "outputs": [
    {
     "name": "stdout",
     "output_type": "stream",
     "text": [
      "رئيس الوزراء البريطاني: ليس للندن أي ارتباط بعملية قتل #قاسم_سليماني #lebanon24\n",
      "===============================\n",
      "#عاجل| #ترامب: القضاء على #قاسم_سليماني بعث برسالة قوية للإرهابيين المحتملين #إرم_نيوز #إيران\n",
      "===============================\n",
      "نتنياهو يقطع زيارته لـ #اليونان ويعود إلى «إسرائيل» بعد مقتل #سليماني #قاسم_سليماني \n",
      "===============================\n",
      "مسؤول بالبيت الأبيض: ترامب يدلي ببيان بشأن إيران الساعة 1600 بتوقيت جرينتش #البارجيل #ايران #ايران_البارجيل #قاسم #قاسم_سلیمانی #العراق #العراق_البارجيل #الحرس_الثوري_الإيراني #الحرس_الثوري #اسماعيل_قاآني #اسماعيل #قاعدة_امريكية #القواعد_الامريكية #ترامب #الرئيس_الامريكي\n",
      "===============================\n",
      "بالأمس يقول ترامب بتغريدة له: \"إيران ستدفع ثمناً باهظاً، و هذا تهديد و ليسَ تحذير\" و اليوم يقتل هذاالإرهابي الذي قتل عشرات الآلاف بالشرق الأوسط يعني كان بإمكانكم قتله قبل التهديد و لكن أنتم من تطلقون يده في المنطقة لقتل من تريدون، و عندما تسمّنون العجل تنحرونه #قاسم_سليماني\n",
      "===============================\n",
      "أجمل ركْلتين بالقدم في العشر سنوات الأخيرة كانتا مِن: _ الشّابّ السّوري الذي ركلَ صورة #حافظ_الأسد ومزّق وجهه بحذائه أمام نادي الضّبّاط بحمص 2011 _الشّاب الإيراني وهو يركل وجه #قاسم_سليماني في صورته المعلّقة على أحد الأبنية في طهران يوم أمس\n",
      "===============================\n",
      "#العالم || المبعوث الأمريكي الخاص بـ #إيران: خليفة #قاسم_سليماني سيواجه نفس المصير إذا قتل أمريكيين  …\n",
      "===============================\n",
      "القاتل: أمريكي المقتول: إيراني اللي بياكل تبن: العراقي الله يعين هالشعب #قاسم_سليماني\n",
      "===============================\n",
      "وكالة الأنباء الإيرانية: #قاسم_سليماني كان قادما من بيروت إلى بغداد\n",
      "===============================\n",
      "BBC \" Breaking \" : الحرس الثوري الإيراني يهدد ب \"انتقام أقسى قريبا جدا\" لاغتيال #قاسم_سليماني\n",
      "===============================\n",
      "تقارير أميركية: الموساد ساعد في اغتيال #سليماني و #نتنياهو الزعيم الوحيد بالعالم الذي كان يعلم بأنه سيغتال #فلسطين #جريدة_القدس #عاجل #اخبار #متابعة #تقارير #ترجمة #غزة #المقاومة #قاسم_سليماني #حماس #إيران #العراق #الشرق_الأوسط #إسرائيل #واشنطن #بغداد #طهران\n",
      "===============================\n",
      "مقتل #قاسم_سليماني: تأجيل مراسم دفن قائد فيلق القدس في كرمان بعد مقتل 35 من المشيعين  \n",
      "===============================\n",
      "الجيش الإيراني: أمريكا ستكون مسؤولة عن إندلاع أي حرب في المنطقة وستندم على ذلك  … #قاسم_سليماني \n",
      "===============================\n",
      "#البنتاغون: مقتل #قاسم_سليماني جاء بأمر من #ترامب  \n",
      "===============================\n",
      "مستشار الرئيس الإيراني، #حسام_الدين_آشنا، تعليقا على مقتل #قاسم_سليماني: \" #ترامب بمغامراته، أدخل الولايات المتحدة في ظروف إقليمية خطيرة، وعلى من يتجاوز الخطوط الحمراء، أن يتحمل العواقب\"\n",
      "===============================\n",
      "روسيا اليوم: البرلمان الإيراني يصوت على وضع #البنتاغون وكل من لعب دوراً في اغتيال #قاسم_سليماني على لائحة الإرهاب\n",
      "===============================\n",
      "إيران تسقط طائرة أمريكية بدون طيار، اليوم أمريكا تسقط ثاني أقوى رجل في ايران #قاسم_سليماني في طائره بدون طيار وتحمل الجثه على سياره أمريكيه المثل بقول: العب مع الي قدك \n",
      "===============================\n",
      "بالفيديو :: لحظة قصف موكب سليماني والمهندس من قبل الطيران الامريكي في مطار بغداد #قاسم_سليماني #ابومهدی_مهندس\n",
      "===============================\n",
      "القوات المسلحة الإيرانية: الولايات المتحدة ومن نفذ علمية اغتيال اللواء #قاسم_سليماني أن ينتظروا رداً قوياً ومزلزلاً #الإعلام_الشعبي_اليمني \n",
      "===============================\n",
      "كان رسول الله صلى الله عليه وسلم يدعو بهذا الدعا: اللهم اني اعوذ بك من الجنون والبرص والجُذام ، ومن سيء الاسقام #قاسم_سليماني\n",
      "===============================\n",
      "وزير خارجية إيران: اغتيال سليماني “تصعيد خطر للغاية وطائش” #قاسم_سليماني  #أخبار_الوئام\n",
      "===============================\n",
      "محللة في الشأن الإيراني تؤكد: \"معالم حرب بين واشنطن وطهران لكنها ليست حربا تقليدية\"  #قاسم_سليماني #ايران #ترامب #ايران\n",
      "===============================\n",
      "ينقلُ أحدُ العارفين مِمن التقى #قاسم_سليماني في مجلس دار فيه نقاش حول إمكان قيام الأميركيين بضربهم: «عندما ترَوْن أنّ الأميركيين بدأوا بسحب قِطَعِهم العسكرية من مياه الخليج، فاستعدوا للحرب. أمّا وهم يستقدمون المزيد منها إلى المنطقة، فتيقّنوا أنّ هذه الحرب أو المواجهة لن تحصل»\n",
      "===============================\n",
      "وزير خارجية بريطانيا يدعو لنزع فتيل التوتر في المنطقة بعد مقتل سليماني ويؤكد: فيلق القدس بقائده #قاسم_سليماني لطالما شكل خطراً عدوانياً #الرؤية_بلا_حدود\n",
      "===============================\n",
      "وزير الخارجية البريطاني دومينيك راب: ندعو للتهدئة…ولن نأسف على وفاة #قاسم_سليماني \n",
      "===============================\n",
      "#تفاعلكم : انتقام #إيران لـ #قاسم_سليماني يتحول لسخرية في #العراق #الحرب_العالمية_الثالثة\n",
      "===============================\n",
      "#طرابلس_مع_المشير أكثرية العرب مع #المشير_حفتر ثورة #الحرس_الثوري الإيراني: فكر #قاسم_سليماني: فكر تصدير ثورة إيران يستهدف الأقلية الأقلية تخرج لتعطيل الأكثرية #اردوغان طوعته إيران لتنفيذ خطة الحرس الثوري لتعطيل مصر #تركيا تخاف من إيران تدعم ثورة للأكراد #طرابلس_مع_المشير\n",
      "===============================\n",
      "#بومبيو: انتهى عصر مسايرة الإرهابيين • #قاسم_سليماني كان وسط شبكة العنكبوت والآن رحل \n",
      "===============================\n",
      "عاجل من أمريكا | رئيسة مجلس النواب الأمريكي نانسي بيلوسي: لا يمكن للولايات المتحدة والعالم تحمل تصاعد التوترات إلى نقطة اللاعودة  | #قاسم_سليماني \n",
      "===============================\n",
      "واشنطن تبرر قتل #قاسم_سليماني: دفاع عن النفس  #أخبار_الوئام\n",
      "===============================\n",
      "عاجل من إيران | قائد الحرس الثوري الإيراني: اغتيال سليماني سيتبعه انتقام قاسٍ خاصة في شكل وطبيعة الحضور الأمريكي بالمنطقة  | #قاسم_سليماني \n",
      "===============================\n",
      "#بشار_الأسد يعزي #إيران في سليماني.. ويصرح: الشعب السوري لن ينسى وقوف « #قاسم_سليماني» إلى جانب الجيش السوري في دفاعه عن #سوريا\n",
      "===============================\n",
      "فيديو جديد لـ«اغتيال #قاسم_سليماني» #WWIII #worldwar3 #الحرب_العالميه_الثالثه ايران العراق ترامب Trump\n",
      "===============================\n",
      "التلفزيون العراقي: يعلن مقتل #قاسم_سليماني و #ابو_مهدي_المهندس قرب مطار بغداد الدولي\n",
      "===============================\n",
      "#بيلوسي: التزاما منا بواجبنا بضمان أمن الشعب الأمريكي” فإن مجلس النواب سيصوت الخميس على مشروع القرار “الذي يهدف إلى الحد من الأعمال العسكرية للرئيس ضد إيران” #ترامب #قاسم_سليماني  …\n",
      "===============================\n",
      "ذيول ايران : والله ياامريكا كبرتي الموضوع #قاسم_سليماني\n",
      "===============================\n",
      "عاجل البنتاغون: الجيش بتوجيه من الرئيس ترامب قام بقتل #قاسم_سليماني كإجراء دفاعي حاسم لحماية الموظفين الأمريكيين بالخارج\n",
      "===============================\n",
      "#ترامب : #قاسم_سليماني كان يخطط لهجمات وشيكة على دبلوماسيين وجنود أميركيين \n",
      "===============================\n",
      "خامنئي: شهيدنا الفريق #قاسم_سليماني كان حكيماً وعاقلاً ودبلوماسياً ومفكراً وكان عمله كله خالصاً لوجه الله\n",
      "===============================\n",
      "cnn : الصور الأولى للدمار الذي خلفه الهجوم الصاروخي ل #إيران عَلى قاعد #عين_الأسد الأميركية في #العراق إنتقاما لاغتيال #قاسم_سليماني \n",
      "===============================\n",
      "صحيفة \"وول ستريت جورنال\" الأميركية: \"بعد مقتل #قاسم_سليماني، كان مسؤولو #إيران والولایات المتحدة على اتصال في عدة مرات وقد تبادلوا الرسائل، عن طریق الحكومة السويسرية\"\n",
      "===============================\n",
      "عاجل: مقتل قاسم سليماني وأبو مهدي المهندس في قصف على مطار بغداد #قاسم_سليماني\n",
      "===============================\n",
      "الميادين: دوي صفارات إنذار السفارة الأميركية وفي محيط المنطقة الخضراء في بغداد بعد سقوط صواريخ #العراق #قاسم_سليماني #أميركا #ترامب\n",
      "===============================\n",
      "#الحرس_الثوري : نعتبر #إسرائيل حليفا لـ #أميركا في قتل #قاسم_سليماني  \n",
      "===============================\n",
      "رئيس مجلس الخبراء الإيراني، #أحمد_جنتي: \"ما فعلته الولايات المتحدة لن يبقى دون رد\" #قاسم_سليماني \n",
      "===============================\n",
      "#عاجل: #روحاني يؤكد أن #ايران \"والدول الحرة في المنطقة\" ستنتقم لمقتل الجنرال #قاسم_سليماني #فرانس_برس\n",
      "===============================\n",
      "المرشد الإيراني :على الولايات المتحدة الأمريكية ان تنتظر انتقاماً شديداً لجريمتها بإغتيال #قاسم_سليماني\n",
      "===============================\n",
      "#قاسم_سليماني لا نقول إلا كما قال ربنا تبارك وتعالى في كتابه العزيز : \n",
      "===============================\n",
      "شُنّت حملة على « #حماس» خاصة والفصائل عامة بسبب نعيها #قاسم_سليماني \n",
      "===============================\n",
      "القصر الرئاسي بعد مقتل #قاسم_سليماني للمبدع : كانيوار زيدان \n",
      "===============================\n",
      "#عاجل_العربي | أمين المجلس الأعلى للأمن القومي الإيراني علي شمخاني: وضعنا 13 سيناريو للانتقام لـ #قاسم_سليماني\n",
      "===============================\n",
      "«بيان رسمي» يكشف السبب المباشر لعملية «البرق الأزرق» ومقتل #قاسم_سليماني #العراق\n",
      "===============================\n",
      "#قاسم_سليماني قال عنه نتن ياهو وهويشكر ترامب على اغتياله: إنه قتل المئات أوالآلاف من الأمريكيين وكذلك من الآخرين ويعني اليهودلكنه اكتفى بذلك التعبير وترامب قال :إنه قتل الآلاف من الأمريكيين وقال عنه الفلسطينيون أنه كان نصير وسندالمقاومة وأن تعزز قدراتها هوبفضل جهوده وهوشهيدالقدس\n",
      "===============================\n",
      "استند بيان مجلس خبراء القيادة بتصريح المرشد الإيراني، #علي_خامنئي، ضمن تعليقه على اغتيال #قاسم_سليماني، مضيفا أن : ”الانتقام القاسي يقترب ورغم أن #إيران لن تبدأ الحرب، ولكننا لن نقف مكتوفي الأيدي ضد اعتداء المعتدين\" #إرم_نيوز …\n",
      "===============================\n",
      "رويترز: موظفو شركات النفط الأجنبية يتجهون إلى مطار البصرة لإجلائهم #ابومهدي_المهندس #قاسم_سليماني \n",
      "===============================\n",
      "#الدبوس عاجل : #قاسم_سليماني يفجر نفسه وينتحر بعد خوفاً من هذه الحشود متوقعاً انهم متوجهين لتحرير بلاد العرب #سوريا و #العراق #ابن_دغيثر #عتيبة\n",
      "===============================\n",
      "#علي_خامنئي: مأساة الطائرة الأوكرانية يجب ألا تطغى على تضحية #قاسم_سليماني  \n",
      "===============================\n",
      "صحيفة التايمز البريطانية: مقتل #قاسم_سليماني قضى على رجل شرير كان يقود أعمال التخريب الإيرانية في الشرق الأوسط\n",
      "===============================\n",
      "#الهلال_الفيصلي مصدر عسكري أمريكي : العملية التي تم تنفيذها لاغتيال #قاسم_سليماني اطلق عليها عملية \" البرق الازرق \" يا هلال عزك عزنا\n",
      "===============================\n",
      "#قاسم‌_سلیماني و #حماس الأحداث الماضية والدروس المستفادة منها تحت هذه التغريدة:\n",
      "===============================\n",
      "عاجل - «الخارجية» الإيرانية: قتل #قاسم_سليماني خطأ.. تتحمل #واشنطن مسؤولية تداعياته\n",
      "===============================\n",
      "موقع استخباري اسرائيلي: \"كتائب حزب الله\" في العراق تعلن عن تشكيل وحدة انتحاريين للانتقام لمقتل #قاسم_سليماني\n",
      "===============================\n",
      "موقع الماني : الأوامر تأتي من طهران وعلى الحوثيين السمع والطاعة  #الحوثيين #2020 #اليمن #قاسم_سليماني \n",
      "===============================\n",
      "هبوط «وول ستريت» بعد اغتيال #قاسم_سليماني #WWIII #worldwar3 #الحرب_العالميه_الثالثه ايران العراق ترامب Trump\n",
      "===============================\n",
      "بلومبيرغ: \"فيسبوك\" تعمل على إزالة الملصقات في موقع إنستغرام التي تدعم أو تشيد بقائد فيلق #القدس الإيراني، #قاسم_سليماني  #العربية\n",
      "===============================\n",
      "الكاتب الصحفي السوري سامر الخليوي: هناك دول عززت من تواجدها في #العراق وأخري سحبت بعض قواتها تحسبًا لأي رد إيراني على مقتل #قاسم_سليماني \n",
      "===============================\n",
      "#الحرس_الثوري الإيراني: فرحة #إسرائيل و #أمريكا ستتحول إلى حداد على خلفية مقتل قائد فيلق القدس #قاسم_سليماني في غارة أمريكية \n",
      "===============================\n",
      "السجل الإجرامي لقائد فيلق القدس #قاسم_سليماني إعداد: #إدارة_التوجيه_المعنوي\n",
      "===============================\n",
      "#ظريف يستظرف ويكذب استهداف #قاسم_سليماني جاء من قاعدة العديد في #قطر والعصملي \"يعزز\" الاستظراف والكذب التعليق: استهداف قاعدة خالية فيه حفظ لماء الوجه، وردّة فعل أمريكية أخف وطأة …\n",
      "===============================\n",
      "#قاسم_سليماني لم تضعه امريكا كمطلوب ومن اول محاوله قتلته حنا أمام أمرين : الاول ان سليماني منفوخ وكانت الجرائم ترتكب وتسجل باسمه لكي يصبح للشيعه شان وان هناك من هو بطل الأمر الآخر ان سليمان كان يفعل كل ما يفعله تحت عين امريكا وكانت تسمح له بذلك والآن حاول ان يتمرد عليهم فقتلوه\n",
      "===============================\n",
      "عاجل - المحرر الأمني في «سي إن إن»: • «صواريخ غراد» تابعة لـ #ميليشيات_إيرانية.. تقترب من أهداف أميركية في منطقة #الخليج • القاعدة الجوية في #قطر والمصالح الأميركية بالكويت.. بين الأهداف المثيرة للقلق #قاسم_سليماني  …\n",
      "===============================\n",
      "« #وزارة_الخارجية» للسفير الإيراني: مستاؤون من تصريحاتكم بشأن قاعدة علي السالم - ظريف يناقض « #الحرس_الثوري» #قاسم_سليماني #ايران\n",
      "===============================\n",
      "مايك #بنس: #قاسم_سليماني لعب دورا مباشرا في تمويل وتجهيز وتدريب #حزب_الله  #ملحق #إيران #الولايات_المتحدة\n",
      "===============================\n",
      "رئيسة مجلس النواب الديمقراطية نانسي بيلوسي: قتل #قاسم_سليماني ينذر بتصعيد خطير\n",
      "===============================\n",
      "#ترامب : الديموقراطيين الأن غاضبون بشكل مبالغ فيه حول لماذا تم القضاء على #قاسم_سليماني\n",
      "===============================\n",
      "#ألمانيا: #أميركا كانت ترد على الإستفزازات الإيرانية  #قاسم_سليماني #ابو_مهدي_المهندس #ايران #اميركا #العراق #ملحق\n",
      "===============================\n",
      "بومبيو: العراقيون رقصوا في الشوارع من أجل الحرية ورددوا \"لا سليماني بعد اليوم\" #قاسم_سليماني \n",
      "===============================\n",
      "رئيس حكومة تصريف العاجل العراقية عادل عبد المهدي أمام البرلمان العراقي: سيصعب على القوات العراقية حماية القوات الأجنبية بعد التطورات الأخيرة والخيار الأفضل إنهاء وجودها #العراق #قاسم_سليماني \n",
      "===============================\n",
      "عاجل: عبد المهدي يطلب من بومبيو وضع آليات لانسحاب القوات الامريكيه من العراق #العراق #قاسم_سليماني #ابو_مهدي_المهندس\n",
      "===============================\n",
      "نائب #ترامب: #قاسم_سليماني شارك في استهداف مطارات مدنية سعودية \n",
      "===============================\n",
      "أمين مجلس تشخيص مصلحة النظام في إيران علي شمخاني: أي عمل أمريكي ضد إيران بعد ردها سيقابل بقصف إسرائيل وحيفا #فلسطين #جريدة_القدس #عاجل #اخبار #متابعة #تقارير #ترجمة #غزة #المقاومة #قاسم_سليماني #حماس #إيران #العراق #الشرق_الأوسط #إسرائيل #العراق #واشنطن #بغداد\n",
      "===============================\n",
      "الحمقى في #السعودية و #إيران يعيشون جنون العظمة، ويبيعون الأوهام: فبعد الكرتون السعودي الذي تضمن احتلال السعودية لطهران واعتقالها #قاسم_سليماني، خرج مؤخرا كرتون إيراني يتضمن تفجير مبنى الكونغرس الأميركي واقتحام البيت الأبيض وقتل #ترمب انتقاما لمقتل سليماني\n",
      "===============================\n",
      "دور #قاسم_سليماني في تغذية أزمة #العراق: تاريخ ملطخ بدماء المدنيين الأبرياء #جنوح_متشددي_إيران #إيران #العراق_ينتفض #مقتل_قاسم_سليماني  \n",
      "===============================\n",
      "#نصرالله: تشييع #قاسم_سليماني في إيران أرعب ترامب وإدارته\n",
      "===============================\n",
      "\"نيوز ويك\" الأمريكية: الرئيس الأمريكي أمر صباح الخميس القوات الأمريكية بإستهداف سليماني وأبو مهدي المهندس من خلال طائرات مسيرة #ترامب #قاسم_سليماني #العراق\n",
      "===============================\n",
      "بالفيديو: مثوى #سليماني الأخير في إيران  #قاسم_سليماني #قاسم_سليماني_شهيد #سليماني_شهيداً\n",
      "===============================\n",
      "#عاجل: رئيس الوزراء الكندي: لدينا عدة مصادر استخباراتية أكدت لنا أن #إيران هي من أسقطت طائرة الركاب الأوكرانية #جريدة_القدس #اخبار #فلسطين #واشنطن #اسرائيل #اليوم #الشرق_الأوسط ##العراق #قاسم_سليماني\n",
      "===============================\n",
      "برنامج #المشهد مع جمال أحمد الآن على شاشة #قناة_الحوار تابعوا البث الحي عبر الرابط:  #إيران #قاسم_سليماني \n",
      "===============================\n",
      "ديما فراج: الصفة المشتركة بين صدام وسليماني أنهم قتلوا بواسطة الأمريكان #الأردن #العراق #صدام_حسين #قاسم_سليماني #رؤيا_الاخباري\n",
      "===============================\n",
      "• مسؤول في «البنتاغون» : تصفية #قاسم_سليماني «هي البداية» إذا استمرت #إيران على نفس النهج . • #نصرالله و #الحوثي وقيادات الميليشيات التابعة لإيران باتوا هدفاً أميركياً قادمًا . • #أميركا أنهت مرحلة الحرب بالوكالة بهدف إعادة إيران إلى حجمها الطبيعي وانهاء اطماعها التوسعية .\n",
      "===============================\n",
      "الرئيس الأمريكي: استهداف #قاسم_سليماني أنقذ أرواحا من الموت \n",
      "===============================\n",
      "#السيستاني : إستهداف #سليماني و #المهندس إعتداء غاشم وخرق لسيادة #العراق  #قاسم_سليماني #ابو_مهدي_المهندس #ايران #اميركا #العراق #ملحق\n",
      "===============================\n",
      "عاجل | الحرس الثوري الإيراني: قاعدة «علي السالم» في #الكويت شاركت في عملية اغتيال #قاسم_سليماني • مصدر رفيع لـ«القبس» رداً على الحرس الثوري: ادعاء باطل ولا صحة له \n",
      "===============================\n",
      "عاجل - «فوكس نيوز»: #القوات_الأميركية في المنطقة تدخل حالة الإنذار القصوى #قاسم_سليماني #ابو_مهدي_المهندس\n",
      "===============================\n",
      "عاجل | #ترامب: نشعر أن عهد #الإرهاب قد انتهى بمقتل #قاسم_سليماني\n",
      "===============================\n",
      "عاجل – بيان منسوب ل #الحرس_الثوري_الإيراني يؤكد استهداف قاعدة «عين الأسد» انتقاماً لمقتل #قاسم_سليماني  \n",
      "===============================\n",
      "البنتاجون: هذه أسباب استهداف #قاسم_سليماني في العراق \n",
      "===============================\n",
      "إيران: المساعد التنسيقي لقائد حرس الثورة العميد محمد رضا نقدي: إما أن تخرج واشنطن من المنطقة أو تشتري توابيت لجنودها #قاسم_سليماني #قاسم_سليماني_شهيدا #سليماني_شهيد #ابو_مهدي_المهندس #Suleimani\n",
      "===============================\n",
      "ترامب: كد كيدك واسعي سعيك والله لا تمحو ذكرنا ولن تميت وحينا وما جمعك إلا فند وايامك إلا عدد \" #ابو_مهدي_المهندس #قاسم_سليماني\n",
      "===============================\n",
      "ألمانيا: #الضربة_الأمريكية على #قاسم_سليماني رد فعل على استفزازات #إيران  #اوروبا\n",
      "===============================\n"
     ]
    }
   ],
   "source": [
    "df_neu.reset_index(drop = True, inplace = True)\n",
    "n = random.sample(range(df_neu.shape[0]-1), 100)\n",
    "for i in n:\n",
    "    print(df_neu.loc[i]['cleaned_text'])\n",
    "    print(\"===============================\")"
   ]
  },
  {
   "cell_type": "code",
   "execution_count": 45,
   "metadata": {},
   "outputs": [
    {
     "name": "stdout",
     "output_type": "stream",
     "text": [
      "بعد مقتله مع #قاسم_سليماني.. من هو #أبو_مهدي_المهندس؟ #إيران #طهران #مالک_اشتر #QasemSoleimani #Suleimani #Iran #العرب_مباشر\n",
      "===============================\n",
      "الشهادة عزّ أبدي . . #كلمات_الإمام_الخميني #قاسم_سليماني \n",
      "===============================\n",
      "الهيبره والجنون الأميركي لهذا اليوم...فاصل ونواصل.... #قاسم_سليماني #العراق #ايران #الحرب_العالمية_الثالثة\n",
      "===============================\n",
      "هذهِ المرّة غفوتَ أنتْ و أيقظتَ أُمّة #قاسِم_سُليماني ⁦⁦⁩ #انتقامي_سخت ⁦\n",
      "===============================\n",
      "عيد على مقتل الكلاب ابن الكلب #قاسم_سليماني \n",
      "===============================\n",
      "نقلت وكالة رويترز، صباح السبت، عن مسؤول عسكري ألماني كبير، أن الجيش الأميركي وحلفاءه أوقفوا برامج تدريب القوات العسكریة العراقية. والسبب تزايد التهديدات الأمنية ضدهم بعد مقتل #قاسم_سليماني في #بغداد.\n",
      "===============================\n",
      "لن تنتصروا حتى تفقدوا من تحبون.. -الإمام الخميني قدس سره- #قاسم_سليماني \n",
      "===============================\n",
      "مقتل #قاسم_سليماني لا رحمه الله\n",
      "===============================\n",
      "مصرع 50 إيرانياً وإصابة العشرات خلال تشييع #قاسم_سليماني  \n",
      "===============================\n",
      "وش الفرق بين بشار الاسد واوباما وترمب وبشار الجعفري و #قاسم_سليماني وحسن نصر الله !؟\n",
      "===============================\n",
      "الكويت تستدعي سفير إيران وتعبر عن استيائها.. ما السبب؟  | #قاسم_سليماني \n",
      "===============================\n",
      "أَيَحْسَبُ أَن لَّن يَقْدِرَ عَلَيْهِ أَحَدٌ #قاسم_سليماني\n",
      "===============================\n",
      "كنت أظن أن حقد وحسد حماس محصور ع دول الخليج، لكن البيان الذي اصدرة الحركه ف #قاسم_سليماني يثبت بالدليل شمولية حقدهم ع العرب والسنه، لكن لماذا الاستغراب فالتفاحه لا تسقط بعيد عن الشجرة، هذه الحركه إحدى بنات الاخوان، الذي كان ولا يزال فكرهم السم القاتل الاول للمسلمين والعرب\n",
      "===============================\n",
      "#قاسم_سليماني #سليماني #سليماني_شهيداً\n",
      "===============================\n",
      "#قاسم_سليماني هل تعتقدون ان امريكا قتلت قاسمي للنصرة المنطقة والابرياء استفيقوا ياعرب ويامسلمين عميل امريكي وتم قتله بعد مانفذ خطط مدروسه في سوريا وغيره بكنترول امريكي ايراني للقتل سنه في سوريا والعراق وبعد تم الانتهاء منه تم قتله والا لماذا لم يقتل من قبل في سوريا ؟؟\n",
      "===============================\n",
      "#قاسم_سليماني الله يفرج هم كل من يسدد منها وكل من ينشرها طريقة السداد ١-المدفوعات ٢-سداد فاتوره لمرة واحده ٣-الخدمات الحكوميه ٤-التنفيذ القضائي ٥-رقم الفاتوره : 192414907 المبلغ المتبقي : 368656﷼ بعدها امسح المبلغ وسدد اللي تقدر شكرا لكل من ساهم بنزول المبلغ \n",
      "===============================\n",
      "#عاجل | البرلمان الإيراني يقرر إدراج وزارة الدفاع الأميركية والأفراد والمؤسسات التابعين لها على لائحة الإرهاب. #قاسم_سليماني \n",
      "===============================\n",
      "لترقد ارواح شهداءنا في سلام.. اللعنة على روحك النجسة يا #قاسم_سليماني\n",
      "===============================\n",
      "#قاسم_سليماني أبو جهل على شدة عداوته للمسلمين لكنه كان ذا مرؤة وشرف فهو لم يقتحم بيت رسول الله مخافة أن تعيره العرب أما ذنب الحية فقد جمع أسواء صفات البشرية جمعا نسأل الله أن يذيقه عذاب الأوليين والآخريين وأن يجمعه بأحبابه. لك الله يا عراق ومنصورة يا بغداد\n",
      "===============================\n",
      "الصورة الاولى في 29 دسامبير و الصورة الثانية 6 يناير #قاسم_سليماني \n",
      "===============================\n",
      "أعرب عن قلقي الشديد ازاء التطورات التي تشهدها المنطقة حاليا 0_o #قاسم_سليماني #العراق #بغداد\n",
      "===============================\n",
      "\"حماس\" بعد هذا التصريح والله عار عليكم ان تسمو انفسكم مسلمين ! #قاسم_سليماني \n",
      "===============================\n",
      "80 مليون دولار كثير ،،، انا ارشح لك عبدالباري عطوان هو الوحيد اللي يقدر على هيك مهمة واعتقد هو راضي بـ 80 ألف تومان #قاسم_سليماني\n",
      "===============================\n",
      "سنثأر #قاسم_سليماني \n",
      "===============================\n",
      "المجلس لم يتلق أي طلبات لبحث الوضع حول مقتل الجنرال الإيراني #قاسم_سليماني..  …\n",
      "===============================\n",
      "يامهيبً في ساحتك من فكر يجس من أساساً تحدى خسر كل دمه هدر لا تمل حارب كل خسيسً نوا يمس ارضنا ارضك لو ولو كلّهم دبر أطلبك ما يبقى عرق به إلا يحس خل دمه يخرج من عيونه ولا نحر لأبو إيفانكا التاريخي فخر العالم #قاسم_سليماني\n",
      "===============================\n",
      ", مقتل #قاسم_سليماني لَيسَ إلا بِدَايةُ المَشْهد الحَقيقي لصِراع النّفوذ في مَنْطقة الخَليج خُصوصًا ، فهذا الجِيفَةُ المجوسيّة ليسَ شَيئًا جديدًا على السّاحة ، إنّمَا الشّيء الجَديد هُو بِدايةُ التّصفيات الصّريحة .!\n",
      "===============================\n",
      "هؤلاء اناس كانو يبحثون عن الشهادة طوال اعمارهم وقد حقق الله امنياتهم فهنيئا لهم لم يضعوا حمايات ولم يختبئو بملاجيء محصنة كان يبحثون عنها ووجدوها هذا هو الطريق الحق #قاسم_سليماني \n",
      "===============================\n",
      "#قاسم_سليماني نعزي حركة جهاد الجبهة الشعبية لتحرير فلسطين دولة سوريا دولة العراق القادم أجمل إن شاء الله\n",
      "===============================\n",
      "#محور_الشر والمتمثل ب #أمريكا #اسرائيل #السعودية #الأمارات اضعف من ان يواجه. لذا يلجأ لاسلوب قذر وجبان الى وهو الغدر..الذي هو بطبيعته اسلوب يهودي بامتياز ليس من الأن بل عبر الازمان #ايران #iran #قاسم_سليماني #ابو_مهدي_المهندس #Iraqi\n",
      "===============================\n",
      "بعيدًا عن بشائر الحرب بعد مقتل #قاسم_سليماني إلا أنه أقذر شخصية لعبت ضد الحراك الثوري في سوريا والعراق ولبنان\n",
      "===============================\n",
      "#قاسم_سليماني شهيد ..انتظروا الرد !\n",
      "===============================\n",
      "#قاسم_سليماني وش خبار الضغط\n",
      "===============================\n",
      "لا زال لدينا من الوقت... ١- خروج لبنان من المحور الإيراني-الروسي ٢- عودة لبنان الى الوسطية الحيادية ٣- عودة لبنان الى كنف الشرعية الدولية #لبنان #لبنان_فوق_الجميع #قاسم_سليماني\n",
      "===============================\n",
      "\"كغيمةْ ... أمطرَتْ ... فرَوَتْ قلوبُنا الجافّة\" #قاسم_سليماني \n",
      "===============================\n",
      "#قاسم_سليماني  …\n",
      "===============================\n",
      "*وعرجت إلى جنتك..* #قاسم_سليماني \n",
      "===============================\n",
      "استهدف #البنتاغون #قاسم_سليماني فأرداه قتيلا، قال البيت الأبيض أنّه انتقام لغطرسة #طهران في الحديقة #العربية لأميركا، بعدها أقام الولي الفقيه جنازة الأبطال للقتيل، موحدا بذلك الشعب الإيراني لدعمه بدل الثورة عليه، ربح #ترامب مِن المشهد وها هو يقوم بحملته الانتخابية، ونجا #نتنياهو.\n",
      "===============================\n",
      "#ترامب #قاسم_سلیمانی سواها بالسنة الجديدة هذي بداية الأحداث 2020سوف تشهد احداث مثيره محليا وخليجيا وشرق أوسطي وأفريقي \n",
      "===============================\n",
      "#قاسم_سليماني الابطال لا يموتون بل يسلمون الراية \n",
      "===============================\n",
      "صحيفة الأخبار اللبنانية المقربة من حزب الله: #قاسم_سليماني، لعب دوراً بارزاً في تنمية الأواصر بين مليشيا الحوثي وإيران، وأوصل العلاقة إلى قمة التعاون. \n",
      "===============================\n",
      "#إرهاب_إيران قصف الطائرة المدنية الأوكرانية في سماء #طهران لم يكن خطأ لأحد حمير الحرس الثوري #الإيراني و إنما جريمة موصوفة و بأوامر من #خامنئي شخصيا لقتل مدنيين #غربيين ردّا على مقتل الإرهابي #قاسم_سليماني و احتفاء جمهور #حزب_الله الإرهابي في #لبنان أكبر دليل على ذلك\n",
      "===============================\n",
      "#قاسم_سليماني وضع الأخوان والملالي حالياً \n",
      "===============================\n",
      "#قاسم_سليماني #حشد_الشعبی #Down_with_America #down_with_USA #Down_with_israel #GhasemSoleimani #ghasem_soleimani\n",
      "===============================\n",
      "#قاسم_سليماني الى مزبلة التاريخ\n",
      "===============================\n",
      "#قاسم_سليماني \n",
      "===============================\n",
      "سيكون الرد #قاسما_مهندسا #قاسم_سليماني \n",
      "===============================\n",
      "صباح اللحم المفروم صباح التقطيع الحضرمي صباح الخير ي سادة #قاسم_سليماني #الحشد_الشعبي\n",
      "===============================\n",
      "لم يمُتْ, لكن شُبّه لهم. #قاسم_سليماني\n",
      "===============================\n",
      "In the name of God, the beneficent, the merciful. #HardReveng. #قاسم_سليماني\n",
      "===============================\n",
      "#قاسم_سليماني \n",
      "===============================\n",
      "إيران وقطر أظهرت المجحوم في الاعلام والدعايه له كبطل خارق وعند مواجهه الواقع اتضح أنه نعامه أمريكا تراقبه علي مدار الساعه و تركته يمرح في العراق وسوريا واليمن ولبنان والخليج وعندما حاول أن يقتحم سفارتها قامت بتحويله الي أشلاء ايران نمر من ورق #قاسم_سليماني\n",
      "===============================\n",
      "د.عبدالله النفيسي: حسب موقع فوكس نيوز الولايات المتحدة سحبت عشرات القطع البحر من بحر الصين باتجاه الخليج ونصبت بطاريات باتريوت في مناطق عديدة من الخليج والحدود اللبنانية الإسرائيلية وهناك حركة غير عادية من المناقلات العسكرية فهل ذلك مقدمة لمواجهة أمريكية إيرانية؟ #قاسم_سليماني \n",
      "===============================\n",
      "موزستان ليكس: وكالة فيتش تخفضان تصنيف لبنان من C.a.C.a ل\"خرى بالربش\". المرحلة حسب سبايس تون: \"سوف نموت بعد قليل\" #قاسم_سليماني #لبنان #الحشد_المقدس\n",
      "===============================\n",
      "#قاسم_سليماني عندما ارادت امريكا قتله لم يأخذ الامر منها الشي الكثير ربما بضع سويعات فقط ويتوقعون انهم شيئا له وزنه\n",
      "===============================\n",
      "قوموا إن النبأ عظيم! #قاسم_سليماني\n",
      "===============================\n",
      "عيب ياجماعة لاشماتة بالموت #قاسم_سليماني #ابو_مهدي_المهندس\n",
      "===============================\n",
      "يعني يروحوا يتحاربوا بعيد عنا الفرس والامريكان شو دخلنا احنا العرب #قاسم_سليماني #العراق #سليماني #الحرب_العالمية_الثالثة\n",
      "===============================\n",
      "#خامنئي يعين قائدًا جديدًا خلفًا لـ\" #سليماني\"، تعرّف إليه #قاسم_سليماني #إيران #iran #ترامب #Tramp #العراق #أمريكا #امريكا_تقصف_الحشد_الشعبي …\n",
      "===============================\n",
      "(ويشفِ صدور قومِ مؤمنين ) #قاسم_سليماني  …\n",
      "===============================\n",
      "كل هالمصايب اللي مسويها هو وحشده ويجي سافل يسميه شهيد ،، #قاسم_سليماني\n",
      "===============================\n",
      "هذا يوم فرحت به آل زياد وآل مروان فضاعف اللهم عليهم اللعن منك والعذاب. ضُرب الدف بمقتل أمير المؤمنين(ع) واحتفلوا بقتل الحسين(ع)، وعلى درب الشهادة يمضي #قاسم_سليماني وعلى درب آل أبي سفيان يمضي السفيانيون الجدد، لكن المختلف هو أن القادم هو زمن الفرج. #الحشد_الشعبي #العراق\n",
      "===============================\n",
      "اسم العملية العسكرية \"البرق الأزرق\" #قاسم_سليماني\n",
      "===============================\n",
      "#قاسم_سليماني مقتله في ساعه لاوله  …\n",
      "===============================\n",
      "تمامًا كما توقعت الترجمة على فيديو #قاسم_سليماني لا تمت بصلة للي بيقولوا في الفيديو، هو بيتكلم عن الحرب في العراق وقد ايه كانت صعبة  … …\n",
      "===============================\n",
      "كشف مصدر استخباراتي غربي كبير أن شخصية سورية رفيعة المستوى هي التي سلّمت رأس #قاسم_سليماني للأمريكيين وسرّبت معلومات دقيقة ومهمة حول تحركات #سليماني في #سوريا وأبلغتهم بموعد السفر وتفاصيل الطائرة المدنية والمرافقين.\n",
      "===============================\n",
      "مقال: (وَهْم الحرب الوشيكة) بقلم: عبدالعزيز العنجري هناك عوامل عدة ساهمت في صناعة أسطورة #قاسم_سليماني رجل #ايران الأقوى في الشرق الأوسط، كما يلقب، منها قدرات الرجل وإلمامه بتفاصيل الملفات المسؤول عنها بجدارة، وأيضا الغموض الذي أحاط به وبشكله. للمزيد:  \n",
      "===============================\n",
      "الى مزبلة التاريخ #قاسم_سليماني\n",
      "===============================\n",
      "#قاسم_سليماني مقتل الكلب سليماني يعني نهاية الحشد الشعبي يعني قطع يد ايران بالعراق!\n",
      "===============================\n",
      "محمد شمس الدين  يكتب مقالا بعنوان: #قاسم_سليماني في خبر كان رابط المقال |  \n",
      "===============================\n",
      "من دم ساردار سليمان آلاف القادة مثله سينمون #قاسم_سليماني #ابومهدي_المهندس\n",
      "===============================\n",
      "ترامب: #قاسم_سليماني كان يجب أن يُقتل قبل سنوات عدة.. فهو قتل أو أصاب آلاف الأميركيين بجروح بالغة وكان يخطط لقتل عدد أكبر\n",
      "===============================\n",
      "بالمناسبة سليماني أكثر دموية من بشار الأسد وهو اليد الإجرامية الأولى بحق الشعب السوري.. فهو آمر والأسد مأمور ليس إلا #قاسم_سليماني\n",
      "===============================\n",
      "السّيّد حسن #نصرالله:\"إنّ أقصى ما يمكن أن يقوم به عدوّنا هو أن يقتلنا... و إنّ أقصى ما نتطلع إليه هو أن نُقتل في سبيل الله\".. #لبيك #قاسم_سليماني #بسم_الله_قاسم_الجبارين\n",
      "===============================\n",
      "مفاجئة اغتيال #قاسم_سليماني سيكون لها وقع الصدمة على إيران لكن يمكنها أن تحول ذلك الحدث لصالحها سياسيا لحد كبير إذا ما التزمت بضبط النفس والقدرة على التفاوض بورقة خاسرة أمام مكاسب سابقة ولاحقة.. الضربة تبدو إنتصار أمريكي لكنها يمكن أن تقلب الدفة!\n",
      "===============================\n",
      "فرحة الشعب العراقي بمقتل الإرهابي #قاسم_سليماني.. #العراق__ينتفض\n",
      "===============================\n",
      "ومع ها الخبر المفرح اليوم وتفحيم #قاسم_سليماني اتمنى لكم نهار سعيدا\n",
      "===============================\n",
      "سبب مقتل #قاسم_سليماني  …\n",
      "===============================\n",
      "بَلْ أَحْيَاءٌ عِندَ رَبِّهِمْ يُرْزَقُونَ. #قاسم_سليماني \n",
      "===============================\n",
      "اللهم ألحق به كل طاغيه وكل ظالم وكل مفسد #قاسم_سليماني\n",
      "===============================\n",
      "تقارير: دونالد ترامب مستمر في إجازته حتى نهايتها، وسوف يقضي باقي أيامها في المنتجع الذي يقيم فيه في فلوريدا .. رغم إعطائه أوامر قتل #قاسم_سليماني شخصياً. #الرؤية_بلا_حدود\n",
      "===============================\n",
      "#عاجل - مجلس الشورى الإيراني يصوت على مشروع يصنف وزارة الدفاع الاميركية وموظفيها وكل من شارك في عملية تصفية #قاسم_سليماني كمنظمات إرهابية\n",
      "===============================\n",
      "#قاسم_سليماني جايك الدور ياابن الكلب \n",
      "===============================\n",
      "فتامين فيمي هير للشعر يمنع التساقط ويكثف ويغذي لا يزيد الوزن منتج طبيعي الاكثر مبيعاً يوجد شحن لكل دول العالم  #قاسم_سليماني\n",
      "===============================\n",
      "#ترمب لقناة فوكس نيوز قتلنا #قاسم_سليماني لأنه كان يخطط لهجمات محتملة تستهدف سفارتنا في #بغداد من بين 4 سفارات أمريكية أخرى.\n",
      "===============================\n",
      "طبعا مرتزقة قطر وتركيا وإيران من العرب الحالمين المتذرعين -بخيانة القدس -حرمة التدخل باليمن ١/لن ينكرو تدخل تركيا في ليبيا ٢/لن يحتفلو معنا اليوم بمقتل الإرهابيين #قاسم_سليماني #ابو_مهدي_المهندس بل سيصمتون صمت القبور لأنهم كانو يأملون من هذه الفطائس تحرير القدس من إسرائيل\n",
      "===============================\n",
      "#حزب_الله بعد إعلان مقتل #قاسم_سليماني من الخوف صلى على خادم الحرمين بدل الصلاة على النبي \n",
      "===============================\n",
      "#زینب_سلیمانی وقفتك بتسوى الملايين من الذين يدّعوا الرجولة، لقد ترك #قاسم_سليماني خلفه الآلاف من قاسم سليماني \n",
      "===============================\n",
      "1-نظام الأسد و إيران يتهمون روسيا بتسريب معلومات عن تحركات النافق #قاسم_سليماني و تستند مليشات الأسد و إيران باتهاماتها على مخرجات اجتماع حدث منذ ما يقارب لشهر في مدينة حماة جميع بين سليماني و جنرالات روس حيث طالبت روسيا سليماني بالمشاركة في الحرب التي تشنها روسيا على محافظة ادلب\n",
      "===============================\n",
      "توماس فريدمان: #قاسم_سليماني.. ملك الحسابات الخاطئة! • اكتشف أن الحرب ضد إسرائيل ليست كمواجهة #جبهة_النُصرة • العقوبات أدت إلى انكماش #الاقتصاد_الإيراني بنسبة 10% وارتفاع البطالة 16%\n",
      "===============================\n",
      "بالفيديو... بحظة اغتيال القائد الايراني قاسم سليمان في غارة جوية امريكية على العراق... الفيديو كامل :  صور الجثة :  #قاِسمً_سليُماَنٌي \n",
      "===============================\n",
      "هذه جنازة القائد #قاسم_سليماني وجنازة القائد المهندس امامه\n",
      "===============================\n",
      "موقف خليجي موحد بعد اغتيال واشنطن #قاسم_سليماني في العراق \n",
      "===============================\n",
      "عماد الدين أديب  يكتب مقالا بعنوان: ما أثر اغتيال الفريق #قاسم_سليماني على معادلة الصراع الحالي في #ليبيا؟ رابط المقال |  \n",
      "===============================\n",
      "لم يموت اليوم الا كلب من مجموعة كلاب ف قاسم سليماني ليس نظام ايران الاكبر و انما كلب من كلاب الخميني ينفذ اوامر راس الشر إسرائيل #قاسم_سليماني\n",
      "===============================\n",
      "Happy morning .. #قاسم_سليماني #QassemSoleimani\n",
      "===============================\n",
      "#قاسم_سليماني \n",
      "===============================\n",
      "من كثرمانفت جماعة الحوثي إرتباطها بإيران كنت قد بدأت أصدقها وكنت أقول في نفسي ربما أننا نظلمها في هذا لكن عندما قُتل #قاسم_سليماني زدت يقيناً أنهم جماعة إيرانية الهوى والهوية وأنه ليس لهم أي صلة باليمن وأنهم كما قال الشاعر عربُُ ولكن لو نزعت قشورهم لوجدت أن اللُّبَّ من ساسانِ\n",
      "===============================\n",
      "والله هذا خبر مُفرح لأكثر من 50 مليون عربي حر.. #قاسم_سليماني\n",
      "===============================\n",
      "تقرير بريطاني يكشف تفاصيل استهداف الغارة الأميركية لـ #قاسم_سليماني #نصرالله #قطر #ايران #العراق\n",
      "===============================\n"
     ]
    }
   ],
   "source": [
    "df_neg.reset_index(drop = True, inplace = True)\n",
    "n = random.sample(range(df_neg.shape[0]-1), 100)\n",
    "for i in n:\n",
    "    print(df_neg.loc[i]['cleaned_text'])\n",
    "    print(\"===============================\")"
   ]
  },
  {
   "cell_type": "code",
   "execution_count": 46,
   "metadata": {},
   "outputs": [
    {
     "data": {
      "text/plain": [
       "(115130, 19)"
      ]
     },
     "execution_count": 46,
     "metadata": {},
     "output_type": "execute_result"
    }
   ],
   "source": [
    "df_final_arabic.shape"
   ]
  },
  {
   "cell_type": "code",
   "execution_count": null,
   "metadata": {},
   "outputs": [],
   "source": []
  }
 ],
 "metadata": {
  "kernelspec": {
   "display_name": "Python 3",
   "language": "python",
   "name": "python3"
  },
  "language_info": {
   "codemirror_mode": {
    "name": "ipython",
    "version": 3
   },
   "file_extension": ".py",
   "mimetype": "text/x-python",
   "name": "python",
   "nbconvert_exporter": "python",
   "pygments_lexer": "ipython3",
   "version": "3.7.5"
  }
 },
 "nbformat": 4,
 "nbformat_minor": 4
}
