{
 "cells": [
  {
   "cell_type": "code",
   "execution_count": 1,
   "metadata": {},
   "outputs": [],
   "source": [
    "import pandas as pd\n",
    "import numpy as np\n",
    "import re"
   ]
  },
  {
   "cell_type": "code",
   "execution_count": 2,
   "metadata": {},
   "outputs": [],
   "source": [
    "df = pd.read_csv(\"cleaned_data01.csv\")\n",
    "users = pd.read_csv(\"cleaned_users01.csv\")"
   ]
  },
  {
   "cell_type": "code",
   "execution_count": 3,
   "metadata": {},
   "outputs": [
    {
     "data": {
      "text/html": [
       "<div>\n",
       "<style scoped>\n",
       "    .dataframe tbody tr th:only-of-type {\n",
       "        vertical-align: middle;\n",
       "    }\n",
       "\n",
       "    .dataframe tbody tr th {\n",
       "        vertical-align: top;\n",
       "    }\n",
       "\n",
       "    .dataframe thead th {\n",
       "        text-align: right;\n",
       "    }\n",
       "</style>\n",
       "<table border=\"1\" class=\"dataframe\">\n",
       "  <thead>\n",
       "    <tr style=\"text-align: right;\">\n",
       "      <th></th>\n",
       "      <th>date</th>\n",
       "      <th>username</th>\n",
       "      <th>to</th>\n",
       "      <th>replies</th>\n",
       "      <th>retweets</th>\n",
       "      <th>favorites</th>\n",
       "      <th>text</th>\n",
       "      <th>mentions</th>\n",
       "      <th>hashtags</th>\n",
       "      <th>id</th>\n",
       "      <th>permalink</th>\n",
       "      <th>text_mentions</th>\n",
       "      <th>text_links</th>\n",
       "      <th>cleaned_text</th>\n",
       "    </tr>\n",
       "  </thead>\n",
       "  <tbody>\n",
       "    <tr>\n",
       "      <th>0</th>\n",
       "      <td>2020-01-01 00:03:23</td>\n",
       "      <td>shahokurdy</td>\n",
       "      <td>Newsweek</td>\n",
       "      <td>6</td>\n",
       "      <td>60</td>\n",
       "      <td>135</td>\n",
       "      <td>قال مسؤول عراقي، لمجلة #نيوزويك \"إن مظاهرة الس...</td>\n",
       "      <td>@Jamal_Atamimihttps</td>\n",
       "      <td>#نيوزويك #انتفاضة_عراقية #تخطيط_عسكري #الحرس_ا...</td>\n",
       "      <td>1212162364012978176</td>\n",
       "      <td>https://twitter.com/shahokurdy/status/12121623...</td>\n",
       "      <td>@Jamal_Atamimihttps</td>\n",
       "      <td>https://twitter.com/Newsweek/status/1212142920...</td>\n",
       "      <td>قال مسؤول عراقي، لمجلة #نيوزويك \"إن مظاهرة الس...</td>\n",
       "    </tr>\n",
       "    <tr>\n",
       "      <th>1</th>\n",
       "      <td>2020-01-01 00:04:52</td>\n",
       "      <td>DarkPhoeinx</td>\n",
       "      <td>hmdkh67</td>\n",
       "      <td>1</td>\n",
       "      <td>0</td>\n",
       "      <td>0</td>\n",
       "      <td>داداش فارسی توییت میزنم چون میدونم فارسی متوجه...</td>\n",
       "      <td>NaN</td>\n",
       "      <td>#قاسم_سلیمانی #خامنه #سپاه_تروریستی_پاسداران</td>\n",
       "      <td>1212162737704513537</td>\n",
       "      <td>https://twitter.com/DarkPhoeinx/status/1212162...</td>\n",
       "      <td>NaN</td>\n",
       "      <td>NaN</td>\n",
       "      <td>داداش فارسی توییت میزنم چون میدونم فارسی متوجه...</td>\n",
       "    </tr>\n",
       "    <tr>\n",
       "      <th>2</th>\n",
       "      <td>2020-01-01 00:26:43</td>\n",
       "      <td>benrezaei</td>\n",
       "      <td>NaN</td>\n",
       "      <td>0</td>\n",
       "      <td>0</td>\n",
       "      <td>0</td>\n",
       "      <td>#خامنه‌ای #اعتراضات_سراسری #سفارت_آمریکا #آبان...</td>\n",
       "      <td>@IsraelPersian @USAdarFarsi</td>\n",
       "      <td>#خامنه #اعتراضات_سراسری #سفارت_آمریکا #آبان_٩٨...</td>\n",
       "      <td>1212168235673640960</td>\n",
       "      <td>https://twitter.com/benrezaei/status/121216823...</td>\n",
       "      <td>@IsraelPersian @USAdarFarsi</td>\n",
       "      <td>pic.twitter.com/KgnsLi6oj6</td>\n",
       "      <td>#خامنه‌ای #اعتراضات_سراسری #سفارت_آمریکا #آبان...</td>\n",
       "    </tr>\n",
       "    <tr>\n",
       "      <th>3</th>\n",
       "      <td>2020-01-01 00:58:39</td>\n",
       "      <td>DavoodKrm</td>\n",
       "      <td>NaN</td>\n",
       "      <td>0</td>\n",
       "      <td>0</td>\n",
       "      <td>2</td>\n",
       "      <td>در سال ۱۳۵۸ جمهوری اسلامی با #اشغال_سفارت آمری...</td>\n",
       "      <td>@IranIntl @bbcpersian</td>\n",
       "      <td>#اشغال_سفارت #ایران_اینترنشنال #کتائب_حزب_الله...</td>\n",
       "      <td>1212176274069819393</td>\n",
       "      <td>https://twitter.com/DavoodKrm/status/121217627...</td>\n",
       "      <td>@IranIntl @bbcpersian</td>\n",
       "      <td>NaN</td>\n",
       "      <td>در سال ۱۳۵۸ جمهوری اسلامی با #اشغال_سفارت آمری...</td>\n",
       "    </tr>\n",
       "    <tr>\n",
       "      <th>4</th>\n",
       "      <td>2020-01-01 02:54:03</td>\n",
       "      <td>Guidance_Free</td>\n",
       "      <td>NaN</td>\n",
       "      <td>4</td>\n",
       "      <td>3</td>\n",
       "      <td>7</td>\n",
       "      <td>اللهم يا سميع الدعاء زلزل الأرض من تحت أقدام #...</td>\n",
       "      <td>NaN</td>\n",
       "      <td>#خامنئي #قاسم_سليماني #الحشد_الشعبي #بسيج #الح...</td>\n",
       "      <td>1212205313358782464</td>\n",
       "      <td>https://twitter.com/Guidance_Free/status/12122...</td>\n",
       "      <td>NaN</td>\n",
       "      <td>NaN</td>\n",
       "      <td>اللهم يا سميع الدعاء زلزل الأرض من تحت أقدام #...</td>\n",
       "    </tr>\n",
       "  </tbody>\n",
       "</table>\n",
       "</div>"
      ],
      "text/plain": [
       "                  date       username        to  replies  retweets  favorites  \\\n",
       "0  2020-01-01 00:03:23     shahokurdy  Newsweek        6        60        135   \n",
       "1  2020-01-01 00:04:52    DarkPhoeinx   hmdkh67        1         0          0   \n",
       "2  2020-01-01 00:26:43      benrezaei       NaN        0         0          0   \n",
       "3  2020-01-01 00:58:39      DavoodKrm       NaN        0         0          2   \n",
       "4  2020-01-01 02:54:03  Guidance_Free       NaN        4         3          7   \n",
       "\n",
       "                                                text  \\\n",
       "0  قال مسؤول عراقي، لمجلة #نيوزويك \"إن مظاهرة الس...   \n",
       "1  داداش فارسی توییت میزنم چون میدونم فارسی متوجه...   \n",
       "2  #خامنه‌ای #اعتراضات_سراسری #سفارت_آمریکا #آبان...   \n",
       "3  در سال ۱۳۵۸ جمهوری اسلامی با #اشغال_سفارت آمری...   \n",
       "4  اللهم يا سميع الدعاء زلزل الأرض من تحت أقدام #...   \n",
       "\n",
       "                      mentions  \\\n",
       "0          @Jamal_Atamimihttps   \n",
       "1                          NaN   \n",
       "2  @IsraelPersian @USAdarFarsi   \n",
       "3        @IranIntl @bbcpersian   \n",
       "4                          NaN   \n",
       "\n",
       "                                            hashtags                   id  \\\n",
       "0  #نيوزويك #انتفاضة_عراقية #تخطيط_عسكري #الحرس_ا...  1212162364012978176   \n",
       "1       #قاسم_سلیمانی #خامنه #سپاه_تروریستی_پاسداران  1212162737704513537   \n",
       "2  #خامنه #اعتراضات_سراسری #سفارت_آمریکا #آبان_٩٨...  1212168235673640960   \n",
       "3  #اشغال_سفارت #ایران_اینترنشنال #کتائب_حزب_الله...  1212176274069819393   \n",
       "4  #خامنئي #قاسم_سليماني #الحشد_الشعبي #بسيج #الح...  1212205313358782464   \n",
       "\n",
       "                                           permalink  \\\n",
       "0  https://twitter.com/shahokurdy/status/12121623...   \n",
       "1  https://twitter.com/DarkPhoeinx/status/1212162...   \n",
       "2  https://twitter.com/benrezaei/status/121216823...   \n",
       "3  https://twitter.com/DavoodKrm/status/121217627...   \n",
       "4  https://twitter.com/Guidance_Free/status/12122...   \n",
       "\n",
       "                 text_mentions  \\\n",
       "0          @Jamal_Atamimihttps   \n",
       "1                          NaN   \n",
       "2  @IsraelPersian @USAdarFarsi   \n",
       "3        @IranIntl @bbcpersian   \n",
       "4                          NaN   \n",
       "\n",
       "                                          text_links  \\\n",
       "0  https://twitter.com/Newsweek/status/1212142920...   \n",
       "1                                                NaN   \n",
       "2                         pic.twitter.com/KgnsLi6oj6   \n",
       "3                                                NaN   \n",
       "4                                                NaN   \n",
       "\n",
       "                                        cleaned_text  \n",
       "0  قال مسؤول عراقي، لمجلة #نيوزويك \"إن مظاهرة الس...  \n",
       "1  داداش فارسی توییت میزنم چون میدونم فارسی متوجه...  \n",
       "2  #خامنه‌ای #اعتراضات_سراسری #سفارت_آمریکا #آبان...  \n",
       "3  در سال ۱۳۵۸ جمهوری اسلامی با #اشغال_سفارت آمری...  \n",
       "4  اللهم يا سميع الدعاء زلزل الأرض من تحت أقدام #...  "
      ]
     },
     "execution_count": 3,
     "metadata": {},
     "output_type": "execute_result"
    }
   ],
   "source": [
    "df.head()"
   ]
  },
  {
   "cell_type": "code",
   "execution_count": 4,
   "metadata": {},
   "outputs": [
    {
     "data": {
      "text/html": [
       "<div>\n",
       "<style scoped>\n",
       "    .dataframe tbody tr th:only-of-type {\n",
       "        vertical-align: middle;\n",
       "    }\n",
       "\n",
       "    .dataframe tbody tr th {\n",
       "        vertical-align: top;\n",
       "    }\n",
       "\n",
       "    .dataframe thead th {\n",
       "        text-align: right;\n",
       "    }\n",
       "</style>\n",
       "<table border=\"1\" class=\"dataframe\">\n",
       "  <thead>\n",
       "    <tr style=\"text-align: right;\">\n",
       "      <th></th>\n",
       "      <th>username</th>\n",
       "      <th>user_location</th>\n",
       "      <th>user_location_modified</th>\n",
       "      <th>lang</th>\n",
       "    </tr>\n",
       "  </thead>\n",
       "  <tbody>\n",
       "    <tr>\n",
       "      <th>0</th>\n",
       "      <td>shahokurdy</td>\n",
       "      <td>notfound</td>\n",
       "      <td>notfound</td>\n",
       "      <td>notfound</td>\n",
       "    </tr>\n",
       "    <tr>\n",
       "      <th>1</th>\n",
       "      <td>DarkPhoeinx</td>\n",
       "      <td>C.O</td>\n",
       "      <td>notfound</td>\n",
       "      <td>notfound</td>\n",
       "    </tr>\n",
       "    <tr>\n",
       "      <th>2</th>\n",
       "      <td>benrezaei</td>\n",
       "      <td>notfound</td>\n",
       "      <td>notfound</td>\n",
       "      <td>notfound</td>\n",
       "    </tr>\n",
       "    <tr>\n",
       "      <th>3</th>\n",
       "      <td>DavoodKrm</td>\n",
       "      <td>Shiraz, Iran</td>\n",
       "      <td>Iran</td>\n",
       "      <td>FA</td>\n",
       "    </tr>\n",
       "    <tr>\n",
       "      <th>4</th>\n",
       "      <td>Guidance_Free</td>\n",
       "      <td>notfound</td>\n",
       "      <td>notfound</td>\n",
       "      <td>notfound</td>\n",
       "    </tr>\n",
       "  </tbody>\n",
       "</table>\n",
       "</div>"
      ],
      "text/plain": [
       "        username user_location user_location_modified      lang\n",
       "0     shahokurdy      notfound               notfound  notfound\n",
       "1    DarkPhoeinx          C.O                notfound  notfound\n",
       "2      benrezaei      notfound               notfound  notfound\n",
       "3      DavoodKrm  Shiraz, Iran                   Iran        FA\n",
       "4  Guidance_Free      notfound               notfound  notfound"
      ]
     },
     "execution_count": 4,
     "metadata": {},
     "output_type": "execute_result"
    }
   ],
   "source": [
    "users.head()"
   ]
  },
  {
   "cell_type": "code",
   "execution_count": 5,
   "metadata": {},
   "outputs": [
    {
     "data": {
      "text/plain": [
       "203419"
      ]
     },
     "execution_count": 5,
     "metadata": {},
     "output_type": "execute_result"
    }
   ],
   "source": [
    "df['cleaned_text'].shape[0]"
   ]
  },
  {
   "cell_type": "code",
   "execution_count": 7,
   "metadata": {},
   "outputs": [],
   "source": [
    "tl = pd.read_csv('C:/Users/laura/Desktop/DS/gh_sl/Env/tweet_lang.csv')"
   ]
  },
  {
   "cell_type": "code",
   "execution_count": 8,
   "metadata": {},
   "outputs": [
    {
     "data": {
      "text/plain": [
       "(25275, 3)"
      ]
     },
     "execution_count": 8,
     "metadata": {},
     "output_type": "execute_result"
    }
   ],
   "source": [
    "tl.shape"
   ]
  },
  {
   "cell_type": "code",
   "execution_count": 9,
   "metadata": {},
   "outputs": [
    {
     "data": {
      "text/html": [
       "<div>\n",
       "<style scoped>\n",
       "    .dataframe tbody tr th:only-of-type {\n",
       "        vertical-align: middle;\n",
       "    }\n",
       "\n",
       "    .dataframe tbody tr th {\n",
       "        vertical-align: top;\n",
       "    }\n",
       "\n",
       "    .dataframe thead th {\n",
       "        text-align: right;\n",
       "    }\n",
       "</style>\n",
       "<table border=\"1\" class=\"dataframe\">\n",
       "  <thead>\n",
       "    <tr style=\"text-align: right;\">\n",
       "      <th></th>\n",
       "      <th>text</th>\n",
       "      <th>language</th>\n",
       "      <th>confidence</th>\n",
       "    </tr>\n",
       "  </thead>\n",
       "  <tbody>\n",
       "    <tr>\n",
       "      <th>0</th>\n",
       "      <td>قال مسؤول عراقي، لمجلة #نيوزويك \"إن مظاهرة الس...</td>\n",
       "      <td>ar</td>\n",
       "      <td>1.0</td>\n",
       "    </tr>\n",
       "    <tr>\n",
       "      <th>1</th>\n",
       "      <td>داداش فارسی توییت میزنم چون میدونم فارسی متوجه...</td>\n",
       "      <td>fa</td>\n",
       "      <td>1.0</td>\n",
       "    </tr>\n",
       "    <tr>\n",
       "      <th>2</th>\n",
       "      <td>#خامنه‌ای #اعتراضات_سراسری #سفارت_آمریکا #آبان...</td>\n",
       "      <td>fa</td>\n",
       "      <td>1.0</td>\n",
       "    </tr>\n",
       "    <tr>\n",
       "      <th>3</th>\n",
       "      <td>در سال ۱۳۵۸ جمهوری اسلامی با #اشغال_سفارت آمری...</td>\n",
       "      <td>fa</td>\n",
       "      <td>1.0</td>\n",
       "    </tr>\n",
       "    <tr>\n",
       "      <th>4</th>\n",
       "      <td>اللهم يا سميع الدعاء زلزل الأرض من تحت أقدام #...</td>\n",
       "      <td>ar</td>\n",
       "      <td>1.0</td>\n",
       "    </tr>\n",
       "  </tbody>\n",
       "</table>\n",
       "</div>"
      ],
      "text/plain": [
       "                                                text language  confidence\n",
       "0  قال مسؤول عراقي، لمجلة #نيوزويك \"إن مظاهرة الس...       ar         1.0\n",
       "1  داداش فارسی توییت میزنم چون میدونم فارسی متوجه...       fa         1.0\n",
       "2  #خامنه‌ای #اعتراضات_سراسری #سفارت_آمریکا #آبان...       fa         1.0\n",
       "3  در سال ۱۳۵۸ جمهوری اسلامی با #اشغال_سفارت آمری...       fa         1.0\n",
       "4  اللهم يا سميع الدعاء زلزل الأرض من تحت أقدام #...       ar         1.0"
      ]
     },
     "execution_count": 9,
     "metadata": {},
     "output_type": "execute_result"
    }
   ],
   "source": [
    "tl.head()"
   ]
  },
  {
   "cell_type": "code",
   "execution_count": 12,
   "metadata": {},
   "outputs": [
    {
     "data": {
      "text/plain": [
       "(2168, 3)"
      ]
     },
     "execution_count": 12,
     "metadata": {},
     "output_type": "execute_result"
    }
   ],
   "source": [
    "tl[tl[\"confidence\"]<0.9].shape"
   ]
  },
  {
   "cell_type": "code",
   "execution_count": 15,
   "metadata": {},
   "outputs": [],
   "source": [
    "hl = pd.read_csv(\"hashs_lang02.csv\")"
   ]
  },
  {
   "cell_type": "code",
   "execution_count": 30,
   "metadata": {},
   "outputs": [
    {
     "data": {
      "text/plain": [
       "(6974,)"
      ]
     },
     "execution_count": 30,
     "metadata": {},
     "output_type": "execute_result"
    }
   ],
   "source": [
    "hl[hl['confidence'] < 0.9].index.shape"
   ]
  },
  {
   "cell_type": "code",
   "execution_count": 19,
   "metadata": {},
   "outputs": [
    {
     "data": {
      "text/plain": [
       "(31479, 3)"
      ]
     },
     "execution_count": 19,
     "metadata": {},
     "output_type": "execute_result"
    }
   ],
   "source": [
    "hl.shape"
   ]
  },
  {
   "cell_type": "code",
   "execution_count": 39,
   "metadata": {},
   "outputs": [
    {
     "data": {
      "text/plain": [
       "hashtag       #نيوزويك\n",
       "language            ar\n",
       "confidence           1\n",
       "Name: 0, dtype: object"
      ]
     },
     "execution_count": 39,
     "metadata": {},
     "output_type": "execute_result"
    }
   ],
   "source": [
    "hl.loc[0]"
   ]
  },
  {
   "cell_type": "code",
   "execution_count": 36,
   "metadata": {},
   "outputs": [
    {
     "name": "stdin",
     "output_type": "stream",
     "text": [
      "what: 1\n"
     ]
    }
   ],
   "source": [
    "i = input(\"what:\")"
   ]
  },
  {
   "cell_type": "code",
   "execution_count": 38,
   "metadata": {},
   "outputs": [
    {
     "data": {
      "text/plain": [
       "'1'"
      ]
     },
     "execution_count": 38,
     "metadata": {},
     "output_type": "execute_result"
    }
   ],
   "source": []
  },
  {
   "cell_type": "code",
   "execution_count": null,
   "metadata": {},
   "outputs": [],
   "source": []
  }
 ],
 "metadata": {
  "kernelspec": {
   "display_name": "Python 3",
   "language": "python",
   "name": "python3"
  },
  "language_info": {
   "codemirror_mode": {
    "name": "ipython",
    "version": 3
   },
   "file_extension": ".py",
   "mimetype": "text/x-python",
   "name": "python",
   "nbconvert_exporter": "python",
   "pygments_lexer": "ipython3",
   "version": "3.7.5"
  }
 },
 "nbformat": 4,
 "nbformat_minor": 4
}
